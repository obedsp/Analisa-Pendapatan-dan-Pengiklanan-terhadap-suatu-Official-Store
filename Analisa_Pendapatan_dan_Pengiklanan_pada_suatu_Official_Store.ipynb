{
  "nbformat": 4,
  "nbformat_minor": 0,
  "metadata": {
    "colab": {
      "name": "Analisa Pendapatan dan Pengiklanan pada suatu Official Store.ipynb",
      "provenance": [],
      "collapsed_sections": [
        "PHzGTaSvlqmV",
        "EqRFFcV1nTAc",
        "h6ngAafQnl-k",
        "ZmKKtIAGpQHh",
        "hLu6XaH0Cojx",
        "OA3jLuxh2nZ0",
        "nxn3owh96g1j",
        "Htp8PWIAynJ6",
        "_9ICG8gsyipz",
        "1CrEuedTz46c",
        "lMY1XyHOLjhP",
        "oGjU2O6s4GwX",
        "6huTEFQe45JL",
        "USzKM-Uh_rbx",
        "60s8vYMujazO",
        "Qzcdxp6YjSoL"
      ]
    },
    "kernelspec": {
      "name": "python3",
      "display_name": "Python 3"
    },
    "language_info": {
      "name": "python"
    }
  },
  "cells": [
    {
      "cell_type": "markdown",
      "source": [
        "# **Analisa Pendapatan dan Pengiklanan pada suatu Official Store**"
      ],
      "metadata": {
        "id": "wWeO7fOdlDTB"
      }
    },
    {
      "cell_type": "markdown",
      "source": [
        "# A. Dataset"
      ],
      "metadata": {
        "id": "pLB366cNu9ci"
      }
    },
    {
      "cell_type": "markdown",
      "source": [
        "Dataset yang digunakan adalah ecommerce_sales.csv (https://github.com/obedsp/Penjualan-Ecommerce-Sales/blob/main/ecommerce_sales.csv). Dataset tersebut berisi data penjualan Smartphone, Laptop dan berbagai perangkat elektronik lainnya."
      ],
      "metadata": {
        "id": "AY-9gWP1uWzq"
      }
    },
    {
      "cell_type": "markdown",
      "source": [
        "# B. Persiapan Data dan Library"
      ],
      "metadata": {
        "id": "PHzGTaSvlqmV"
      }
    },
    {
      "cell_type": "markdown",
      "source": [
        "## B.1. Import library yang akan digunakan"
      ],
      "metadata": {
        "id": "EqRFFcV1nTAc"
      }
    },
    {
      "cell_type": "code",
      "source": [
        "import pandas as pd\n",
        "import numpy as np\n",
        "from datetime import datetime\n",
        "import matplotlib.pyplot as plt"
      ],
      "metadata": {
        "id": "kAMmgSabmwC2"
      },
      "execution_count": 1,
      "outputs": []
    },
    {
      "cell_type": "markdown",
      "source": [
        "## B.2. Import dataset"
      ],
      "metadata": {
        "id": "h6ngAafQnl-k"
      }
    },
    {
      "cell_type": "markdown",
      "source": [
        "Dataset diimport dari file csv ke dalam dataset pandas"
      ],
      "metadata": {
        "id": "H5lyhTAgoCR0"
      }
    },
    {
      "cell_type": "code",
      "source": [
        "df = pd.read_csv('sample_data/ecommerce_sales.csv')"
      ],
      "metadata": {
        "id": "C8q-nOBEYbuF"
      },
      "execution_count": 2,
      "outputs": []
    },
    {
      "cell_type": "markdown",
      "source": [
        "Menampilkan dataset yang sudah diimport"
      ],
      "metadata": {
        "id": "2ms14JS1sUdr"
      }
    },
    {
      "cell_type": "code",
      "source": [
        "df"
      ],
      "metadata": {
        "colab": {
          "base_uri": "https://localhost:8080/",
          "height": 641
        },
        "id": "7tVe-sArs_BA",
        "outputId": "47840059-a151-48a1-a02a-20c719250652"
      },
      "execution_count": 3,
      "outputs": [
        {
          "output_type": "execute_result",
          "data": {
            "text/plain": [
              "       Order ID                     Product Quantity Ordered Price Each  \\\n",
              "0        176558        USB-C Charging Cable                2      11.95   \n",
              "1           NaN                         NaN              NaN        NaN   \n",
              "2        176559  Bose SoundSport Headphones                1      99.99   \n",
              "3        176560                Google Phone                1        600   \n",
              "4        176560            Wired Headphones                1      11.99   \n",
              "...         ...                         ...              ...        ...   \n",
              "186845   259353      AAA Batteries (4-pack)                3       2.99   \n",
              "186846   259354                      iPhone                1        700   \n",
              "186847   259355                      iPhone                1        700   \n",
              "186848   259356      34in Ultrawide Monitor                1     379.99   \n",
              "186849   259357        USB-C Charging Cable                1      11.95   \n",
              "\n",
              "            Order Date                         Purchase Address  \n",
              "0       04/19/19 08:46             917 1st St, Dallas, TX 75001  \n",
              "1                  NaN                                      NaN  \n",
              "2       04/07/19 22:30        682 Chestnut St, Boston, MA 02215  \n",
              "3       04/12/19 14:38     669 Spruce St, Los Angeles, CA 90001  \n",
              "4       04/12/19 14:38     669 Spruce St, Los Angeles, CA 90001  \n",
              "...                ...                                      ...  \n",
              "186845  09/17/19 20:56   840 Highland St, Los Angeles, CA 90001  \n",
              "186846  09/01/19 16:00  216 Dogwood St, San Francisco, CA 94016  \n",
              "186847  09/23/19 07:39     220 12th St, San Francisco, CA 94016  \n",
              "186848  09/19/19 17:30   511 Forest St, San Francisco, CA 94016  \n",
              "186849  09/30/19 00:18   250 Meadow St, San Francisco, CA 94016  \n",
              "\n",
              "[186850 rows x 6 columns]"
            ],
            "text/html": [
              "\n",
              "  <div id=\"df-e5874629-a568-43ea-9fd7-423ca238a6fc\">\n",
              "    <div class=\"colab-df-container\">\n",
              "      <div>\n",
              "<style scoped>\n",
              "    .dataframe tbody tr th:only-of-type {\n",
              "        vertical-align: middle;\n",
              "    }\n",
              "\n",
              "    .dataframe tbody tr th {\n",
              "        vertical-align: top;\n",
              "    }\n",
              "\n",
              "    .dataframe thead th {\n",
              "        text-align: right;\n",
              "    }\n",
              "</style>\n",
              "<table border=\"1\" class=\"dataframe\">\n",
              "  <thead>\n",
              "    <tr style=\"text-align: right;\">\n",
              "      <th></th>\n",
              "      <th>Order ID</th>\n",
              "      <th>Product</th>\n",
              "      <th>Quantity Ordered</th>\n",
              "      <th>Price Each</th>\n",
              "      <th>Order Date</th>\n",
              "      <th>Purchase Address</th>\n",
              "    </tr>\n",
              "  </thead>\n",
              "  <tbody>\n",
              "    <tr>\n",
              "      <th>0</th>\n",
              "      <td>176558</td>\n",
              "      <td>USB-C Charging Cable</td>\n",
              "      <td>2</td>\n",
              "      <td>11.95</td>\n",
              "      <td>04/19/19 08:46</td>\n",
              "      <td>917 1st St, Dallas, TX 75001</td>\n",
              "    </tr>\n",
              "    <tr>\n",
              "      <th>1</th>\n",
              "      <td>NaN</td>\n",
              "      <td>NaN</td>\n",
              "      <td>NaN</td>\n",
              "      <td>NaN</td>\n",
              "      <td>NaN</td>\n",
              "      <td>NaN</td>\n",
              "    </tr>\n",
              "    <tr>\n",
              "      <th>2</th>\n",
              "      <td>176559</td>\n",
              "      <td>Bose SoundSport Headphones</td>\n",
              "      <td>1</td>\n",
              "      <td>99.99</td>\n",
              "      <td>04/07/19 22:30</td>\n",
              "      <td>682 Chestnut St, Boston, MA 02215</td>\n",
              "    </tr>\n",
              "    <tr>\n",
              "      <th>3</th>\n",
              "      <td>176560</td>\n",
              "      <td>Google Phone</td>\n",
              "      <td>1</td>\n",
              "      <td>600</td>\n",
              "      <td>04/12/19 14:38</td>\n",
              "      <td>669 Spruce St, Los Angeles, CA 90001</td>\n",
              "    </tr>\n",
              "    <tr>\n",
              "      <th>4</th>\n",
              "      <td>176560</td>\n",
              "      <td>Wired Headphones</td>\n",
              "      <td>1</td>\n",
              "      <td>11.99</td>\n",
              "      <td>04/12/19 14:38</td>\n",
              "      <td>669 Spruce St, Los Angeles, CA 90001</td>\n",
              "    </tr>\n",
              "    <tr>\n",
              "      <th>...</th>\n",
              "      <td>...</td>\n",
              "      <td>...</td>\n",
              "      <td>...</td>\n",
              "      <td>...</td>\n",
              "      <td>...</td>\n",
              "      <td>...</td>\n",
              "    </tr>\n",
              "    <tr>\n",
              "      <th>186845</th>\n",
              "      <td>259353</td>\n",
              "      <td>AAA Batteries (4-pack)</td>\n",
              "      <td>3</td>\n",
              "      <td>2.99</td>\n",
              "      <td>09/17/19 20:56</td>\n",
              "      <td>840 Highland St, Los Angeles, CA 90001</td>\n",
              "    </tr>\n",
              "    <tr>\n",
              "      <th>186846</th>\n",
              "      <td>259354</td>\n",
              "      <td>iPhone</td>\n",
              "      <td>1</td>\n",
              "      <td>700</td>\n",
              "      <td>09/01/19 16:00</td>\n",
              "      <td>216 Dogwood St, San Francisco, CA 94016</td>\n",
              "    </tr>\n",
              "    <tr>\n",
              "      <th>186847</th>\n",
              "      <td>259355</td>\n",
              "      <td>iPhone</td>\n",
              "      <td>1</td>\n",
              "      <td>700</td>\n",
              "      <td>09/23/19 07:39</td>\n",
              "      <td>220 12th St, San Francisco, CA 94016</td>\n",
              "    </tr>\n",
              "    <tr>\n",
              "      <th>186848</th>\n",
              "      <td>259356</td>\n",
              "      <td>34in Ultrawide Monitor</td>\n",
              "      <td>1</td>\n",
              "      <td>379.99</td>\n",
              "      <td>09/19/19 17:30</td>\n",
              "      <td>511 Forest St, San Francisco, CA 94016</td>\n",
              "    </tr>\n",
              "    <tr>\n",
              "      <th>186849</th>\n",
              "      <td>259357</td>\n",
              "      <td>USB-C Charging Cable</td>\n",
              "      <td>1</td>\n",
              "      <td>11.95</td>\n",
              "      <td>09/30/19 00:18</td>\n",
              "      <td>250 Meadow St, San Francisco, CA 94016</td>\n",
              "    </tr>\n",
              "  </tbody>\n",
              "</table>\n",
              "<p>186850 rows × 6 columns</p>\n",
              "</div>\n",
              "      <button class=\"colab-df-convert\" onclick=\"convertToInteractive('df-e5874629-a568-43ea-9fd7-423ca238a6fc')\"\n",
              "              title=\"Convert this dataframe to an interactive table.\"\n",
              "              style=\"display:none;\">\n",
              "        \n",
              "  <svg xmlns=\"http://www.w3.org/2000/svg\" height=\"24px\"viewBox=\"0 0 24 24\"\n",
              "       width=\"24px\">\n",
              "    <path d=\"M0 0h24v24H0V0z\" fill=\"none\"/>\n",
              "    <path d=\"M18.56 5.44l.94 2.06.94-2.06 2.06-.94-2.06-.94-.94-2.06-.94 2.06-2.06.94zm-11 1L8.5 8.5l.94-2.06 2.06-.94-2.06-.94L8.5 2.5l-.94 2.06-2.06.94zm10 10l.94 2.06.94-2.06 2.06-.94-2.06-.94-.94-2.06-.94 2.06-2.06.94z\"/><path d=\"M17.41 7.96l-1.37-1.37c-.4-.4-.92-.59-1.43-.59-.52 0-1.04.2-1.43.59L10.3 9.45l-7.72 7.72c-.78.78-.78 2.05 0 2.83L4 21.41c.39.39.9.59 1.41.59.51 0 1.02-.2 1.41-.59l7.78-7.78 2.81-2.81c.8-.78.8-2.07 0-2.86zM5.41 20L4 18.59l7.72-7.72 1.47 1.35L5.41 20z\"/>\n",
              "  </svg>\n",
              "      </button>\n",
              "      \n",
              "  <style>\n",
              "    .colab-df-container {\n",
              "      display:flex;\n",
              "      flex-wrap:wrap;\n",
              "      gap: 12px;\n",
              "    }\n",
              "\n",
              "    .colab-df-convert {\n",
              "      background-color: #E8F0FE;\n",
              "      border: none;\n",
              "      border-radius: 50%;\n",
              "      cursor: pointer;\n",
              "      display: none;\n",
              "      fill: #1967D2;\n",
              "      height: 32px;\n",
              "      padding: 0 0 0 0;\n",
              "      width: 32px;\n",
              "    }\n",
              "\n",
              "    .colab-df-convert:hover {\n",
              "      background-color: #E2EBFA;\n",
              "      box-shadow: 0px 1px 2px rgba(60, 64, 67, 0.3), 0px 1px 3px 1px rgba(60, 64, 67, 0.15);\n",
              "      fill: #174EA6;\n",
              "    }\n",
              "\n",
              "    [theme=dark] .colab-df-convert {\n",
              "      background-color: #3B4455;\n",
              "      fill: #D2E3FC;\n",
              "    }\n",
              "\n",
              "    [theme=dark] .colab-df-convert:hover {\n",
              "      background-color: #434B5C;\n",
              "      box-shadow: 0px 1px 3px 1px rgba(0, 0, 0, 0.15);\n",
              "      filter: drop-shadow(0px 1px 2px rgba(0, 0, 0, 0.3));\n",
              "      fill: #FFFFFF;\n",
              "    }\n",
              "  </style>\n",
              "\n",
              "      <script>\n",
              "        const buttonEl =\n",
              "          document.querySelector('#df-e5874629-a568-43ea-9fd7-423ca238a6fc button.colab-df-convert');\n",
              "        buttonEl.style.display =\n",
              "          google.colab.kernel.accessAllowed ? 'block' : 'none';\n",
              "\n",
              "        async function convertToInteractive(key) {\n",
              "          const element = document.querySelector('#df-e5874629-a568-43ea-9fd7-423ca238a6fc');\n",
              "          const dataTable =\n",
              "            await google.colab.kernel.invokeFunction('convertToInteractive',\n",
              "                                                     [key], {});\n",
              "          if (!dataTable) return;\n",
              "\n",
              "          const docLinkHtml = 'Like what you see? Visit the ' +\n",
              "            '<a target=\"_blank\" href=https://colab.research.google.com/notebooks/data_table.ipynb>data table notebook</a>'\n",
              "            + ' to learn more about interactive tables.';\n",
              "          element.innerHTML = '';\n",
              "          dataTable['output_type'] = 'display_data';\n",
              "          await google.colab.output.renderOutput(dataTable, element);\n",
              "          const docLink = document.createElement('div');\n",
              "          docLink.innerHTML = docLinkHtml;\n",
              "          element.appendChild(docLink);\n",
              "        }\n",
              "      </script>\n",
              "    </div>\n",
              "  </div>\n",
              "  "
            ]
          },
          "metadata": {},
          "execution_count": 3
        }
      ]
    },
    {
      "cell_type": "markdown",
      "source": [
        "Menampilkan ukuran dataset"
      ],
      "metadata": {
        "id": "4k--6lW2tRkd"
      }
    },
    {
      "cell_type": "code",
      "source": [
        "# Jumlah baris dan kolom\n",
        "df.shape"
      ],
      "metadata": {
        "colab": {
          "base_uri": "https://localhost:8080/"
        },
        "id": "Sr5-X2z-sBSk",
        "outputId": "a41d7f6e-66b5-4541-e629-f07db71d97fd"
      },
      "execution_count": 4,
      "outputs": [
        {
          "output_type": "execute_result",
          "data": {
            "text/plain": [
              "(186850, 6)"
            ]
          },
          "metadata": {},
          "execution_count": 4
        }
      ]
    },
    {
      "cell_type": "code",
      "source": [
        "# Total ukuran dataset (hasil kali kolom dan baris)\n",
        "df.size"
      ],
      "metadata": {
        "colab": {
          "base_uri": "https://localhost:8080/"
        },
        "id": "GcxMNBb6tcts",
        "outputId": "67a70f5b-53d2-45b5-b74b-ada817e25ca5"
      },
      "execution_count": 5,
      "outputs": [
        {
          "output_type": "execute_result",
          "data": {
            "text/plain": [
              "1121100"
            ]
          },
          "metadata": {},
          "execution_count": 5
        }
      ]
    },
    {
      "cell_type": "markdown",
      "source": [
        "## B.3. Mendeteksi Missing Value"
      ],
      "metadata": {
        "id": "ZmKKtIAGpQHh"
      }
    },
    {
      "cell_type": "markdown",
      "source": [
        "Missing value merupakan element kosong atau tidak memiliki nilai dalam sebuah dataset. Missing value direpresentasikan dengan nilai NaN (Not a Number). Hal ini dapat menimbulkan kekeliruan atau error saat mengolah dataset tersebut. Jadi missing value harus ditangani terlebih dahulu sebelum diolah. Missing value ini dapat ditangani dengan cara menghapus atau menggantinya.\n",
        "\n"
      ],
      "metadata": {
        "id": "BS7TQ3Neqku1"
      }
    },
    {
      "cell_type": "markdown",
      "source": [
        "Sebuah dataset dapat memiliki baris yang sangat banyak yakni ratusan, ribuan bahkan jutaan, sehingga sulit untuk menemukan missing value. Untuk menemukan missing value dengan cepat kita dapat menggunakan fungsi *isnull()* atau *isna()*.\n",
        "\n",
        "Fungsi *isna()* akan menghasilkan nilai TRUE jika nilai yang direferensikan adalah NaN dan sebaliknya jika nilai yang direferensikan bukan NaN maka akan menghasilkan nilai FALSE"
      ],
      "metadata": {
        "id": "FMK17tJXv9VU"
      }
    },
    {
      "cell_type": "code",
      "source": [
        "df.isna()"
      ],
      "metadata": {
        "colab": {
          "base_uri": "https://localhost:8080/",
          "height": 0
        },
        "id": "mML_kwUOa1D1",
        "outputId": "071045de-5cef-4e60-ef8b-8645fa6855dc"
      },
      "execution_count": 6,
      "outputs": [
        {
          "output_type": "execute_result",
          "data": {
            "text/plain": [
              "        Order ID  Product  Quantity Ordered  Price Each  Order Date  \\\n",
              "0          False    False             False       False       False   \n",
              "1           True     True              True        True        True   \n",
              "2          False    False             False       False       False   \n",
              "3          False    False             False       False       False   \n",
              "4          False    False             False       False       False   \n",
              "...          ...      ...               ...         ...         ...   \n",
              "186845     False    False             False       False       False   \n",
              "186846     False    False             False       False       False   \n",
              "186847     False    False             False       False       False   \n",
              "186848     False    False             False       False       False   \n",
              "186849     False    False             False       False       False   \n",
              "\n",
              "        Purchase Address  \n",
              "0                  False  \n",
              "1                   True  \n",
              "2                  False  \n",
              "3                  False  \n",
              "4                  False  \n",
              "...                  ...  \n",
              "186845             False  \n",
              "186846             False  \n",
              "186847             False  \n",
              "186848             False  \n",
              "186849             False  \n",
              "\n",
              "[186850 rows x 6 columns]"
            ],
            "text/html": [
              "\n",
              "  <div id=\"df-606a8524-5463-4b6f-9fb2-6d472a4534e0\">\n",
              "    <div class=\"colab-df-container\">\n",
              "      <div>\n",
              "<style scoped>\n",
              "    .dataframe tbody tr th:only-of-type {\n",
              "        vertical-align: middle;\n",
              "    }\n",
              "\n",
              "    .dataframe tbody tr th {\n",
              "        vertical-align: top;\n",
              "    }\n",
              "\n",
              "    .dataframe thead th {\n",
              "        text-align: right;\n",
              "    }\n",
              "</style>\n",
              "<table border=\"1\" class=\"dataframe\">\n",
              "  <thead>\n",
              "    <tr style=\"text-align: right;\">\n",
              "      <th></th>\n",
              "      <th>Order ID</th>\n",
              "      <th>Product</th>\n",
              "      <th>Quantity Ordered</th>\n",
              "      <th>Price Each</th>\n",
              "      <th>Order Date</th>\n",
              "      <th>Purchase Address</th>\n",
              "    </tr>\n",
              "  </thead>\n",
              "  <tbody>\n",
              "    <tr>\n",
              "      <th>0</th>\n",
              "      <td>False</td>\n",
              "      <td>False</td>\n",
              "      <td>False</td>\n",
              "      <td>False</td>\n",
              "      <td>False</td>\n",
              "      <td>False</td>\n",
              "    </tr>\n",
              "    <tr>\n",
              "      <th>1</th>\n",
              "      <td>True</td>\n",
              "      <td>True</td>\n",
              "      <td>True</td>\n",
              "      <td>True</td>\n",
              "      <td>True</td>\n",
              "      <td>True</td>\n",
              "    </tr>\n",
              "    <tr>\n",
              "      <th>2</th>\n",
              "      <td>False</td>\n",
              "      <td>False</td>\n",
              "      <td>False</td>\n",
              "      <td>False</td>\n",
              "      <td>False</td>\n",
              "      <td>False</td>\n",
              "    </tr>\n",
              "    <tr>\n",
              "      <th>3</th>\n",
              "      <td>False</td>\n",
              "      <td>False</td>\n",
              "      <td>False</td>\n",
              "      <td>False</td>\n",
              "      <td>False</td>\n",
              "      <td>False</td>\n",
              "    </tr>\n",
              "    <tr>\n",
              "      <th>4</th>\n",
              "      <td>False</td>\n",
              "      <td>False</td>\n",
              "      <td>False</td>\n",
              "      <td>False</td>\n",
              "      <td>False</td>\n",
              "      <td>False</td>\n",
              "    </tr>\n",
              "    <tr>\n",
              "      <th>...</th>\n",
              "      <td>...</td>\n",
              "      <td>...</td>\n",
              "      <td>...</td>\n",
              "      <td>...</td>\n",
              "      <td>...</td>\n",
              "      <td>...</td>\n",
              "    </tr>\n",
              "    <tr>\n",
              "      <th>186845</th>\n",
              "      <td>False</td>\n",
              "      <td>False</td>\n",
              "      <td>False</td>\n",
              "      <td>False</td>\n",
              "      <td>False</td>\n",
              "      <td>False</td>\n",
              "    </tr>\n",
              "    <tr>\n",
              "      <th>186846</th>\n",
              "      <td>False</td>\n",
              "      <td>False</td>\n",
              "      <td>False</td>\n",
              "      <td>False</td>\n",
              "      <td>False</td>\n",
              "      <td>False</td>\n",
              "    </tr>\n",
              "    <tr>\n",
              "      <th>186847</th>\n",
              "      <td>False</td>\n",
              "      <td>False</td>\n",
              "      <td>False</td>\n",
              "      <td>False</td>\n",
              "      <td>False</td>\n",
              "      <td>False</td>\n",
              "    </tr>\n",
              "    <tr>\n",
              "      <th>186848</th>\n",
              "      <td>False</td>\n",
              "      <td>False</td>\n",
              "      <td>False</td>\n",
              "      <td>False</td>\n",
              "      <td>False</td>\n",
              "      <td>False</td>\n",
              "    </tr>\n",
              "    <tr>\n",
              "      <th>186849</th>\n",
              "      <td>False</td>\n",
              "      <td>False</td>\n",
              "      <td>False</td>\n",
              "      <td>False</td>\n",
              "      <td>False</td>\n",
              "      <td>False</td>\n",
              "    </tr>\n",
              "  </tbody>\n",
              "</table>\n",
              "<p>186850 rows × 6 columns</p>\n",
              "</div>\n",
              "      <button class=\"colab-df-convert\" onclick=\"convertToInteractive('df-606a8524-5463-4b6f-9fb2-6d472a4534e0')\"\n",
              "              title=\"Convert this dataframe to an interactive table.\"\n",
              "              style=\"display:none;\">\n",
              "        \n",
              "  <svg xmlns=\"http://www.w3.org/2000/svg\" height=\"24px\"viewBox=\"0 0 24 24\"\n",
              "       width=\"24px\">\n",
              "    <path d=\"M0 0h24v24H0V0z\" fill=\"none\"/>\n",
              "    <path d=\"M18.56 5.44l.94 2.06.94-2.06 2.06-.94-2.06-.94-.94-2.06-.94 2.06-2.06.94zm-11 1L8.5 8.5l.94-2.06 2.06-.94-2.06-.94L8.5 2.5l-.94 2.06-2.06.94zm10 10l.94 2.06.94-2.06 2.06-.94-2.06-.94-.94-2.06-.94 2.06-2.06.94z\"/><path d=\"M17.41 7.96l-1.37-1.37c-.4-.4-.92-.59-1.43-.59-.52 0-1.04.2-1.43.59L10.3 9.45l-7.72 7.72c-.78.78-.78 2.05 0 2.83L4 21.41c.39.39.9.59 1.41.59.51 0 1.02-.2 1.41-.59l7.78-7.78 2.81-2.81c.8-.78.8-2.07 0-2.86zM5.41 20L4 18.59l7.72-7.72 1.47 1.35L5.41 20z\"/>\n",
              "  </svg>\n",
              "      </button>\n",
              "      \n",
              "  <style>\n",
              "    .colab-df-container {\n",
              "      display:flex;\n",
              "      flex-wrap:wrap;\n",
              "      gap: 12px;\n",
              "    }\n",
              "\n",
              "    .colab-df-convert {\n",
              "      background-color: #E8F0FE;\n",
              "      border: none;\n",
              "      border-radius: 50%;\n",
              "      cursor: pointer;\n",
              "      display: none;\n",
              "      fill: #1967D2;\n",
              "      height: 32px;\n",
              "      padding: 0 0 0 0;\n",
              "      width: 32px;\n",
              "    }\n",
              "\n",
              "    .colab-df-convert:hover {\n",
              "      background-color: #E2EBFA;\n",
              "      box-shadow: 0px 1px 2px rgba(60, 64, 67, 0.3), 0px 1px 3px 1px rgba(60, 64, 67, 0.15);\n",
              "      fill: #174EA6;\n",
              "    }\n",
              "\n",
              "    [theme=dark] .colab-df-convert {\n",
              "      background-color: #3B4455;\n",
              "      fill: #D2E3FC;\n",
              "    }\n",
              "\n",
              "    [theme=dark] .colab-df-convert:hover {\n",
              "      background-color: #434B5C;\n",
              "      box-shadow: 0px 1px 3px 1px rgba(0, 0, 0, 0.15);\n",
              "      filter: drop-shadow(0px 1px 2px rgba(0, 0, 0, 0.3));\n",
              "      fill: #FFFFFF;\n",
              "    }\n",
              "  </style>\n",
              "\n",
              "      <script>\n",
              "        const buttonEl =\n",
              "          document.querySelector('#df-606a8524-5463-4b6f-9fb2-6d472a4534e0 button.colab-df-convert');\n",
              "        buttonEl.style.display =\n",
              "          google.colab.kernel.accessAllowed ? 'block' : 'none';\n",
              "\n",
              "        async function convertToInteractive(key) {\n",
              "          const element = document.querySelector('#df-606a8524-5463-4b6f-9fb2-6d472a4534e0');\n",
              "          const dataTable =\n",
              "            await google.colab.kernel.invokeFunction('convertToInteractive',\n",
              "                                                     [key], {});\n",
              "          if (!dataTable) return;\n",
              "\n",
              "          const docLinkHtml = 'Like what you see? Visit the ' +\n",
              "            '<a target=\"_blank\" href=https://colab.research.google.com/notebooks/data_table.ipynb>data table notebook</a>'\n",
              "            + ' to learn more about interactive tables.';\n",
              "          element.innerHTML = '';\n",
              "          dataTable['output_type'] = 'display_data';\n",
              "          await google.colab.output.renderOutput(dataTable, element);\n",
              "          const docLink = document.createElement('div');\n",
              "          docLink.innerHTML = docLinkHtml;\n",
              "          element.appendChild(docLink);\n",
              "        }\n",
              "      </script>\n",
              "    </div>\n",
              "  </div>\n",
              "  "
            ]
          },
          "metadata": {},
          "execution_count": 6
        }
      ]
    },
    {
      "cell_type": "markdown",
      "source": [
        "Kolom yang memiliki nilai NaN dapat ditemukan dengan menambahkan fungsi *any()*."
      ],
      "metadata": {
        "id": "9pXCSOs31MEl"
      }
    },
    {
      "cell_type": "code",
      "source": [
        "df.isna().any()"
      ],
      "metadata": {
        "colab": {
          "base_uri": "https://localhost:8080/"
        },
        "id": "eXX10uepd22j",
        "outputId": "272209ee-10af-4b19-e5bf-fda7daaed61e"
      },
      "execution_count": 7,
      "outputs": [
        {
          "output_type": "execute_result",
          "data": {
            "text/plain": [
              "Order ID            True\n",
              "Product             True\n",
              "Quantity Ordered    True\n",
              "Price Each          True\n",
              "Order Date          True\n",
              "Purchase Address    True\n",
              "dtype: bool"
            ]
          },
          "metadata": {},
          "execution_count": 7
        }
      ]
    },
    {
      "cell_type": "code",
      "source": [
        "# Tampilan baris dan kolom yang memiliki missing value\n",
        "df[df.isna().any(axis=1)]"
      ],
      "metadata": {
        "colab": {
          "base_uri": "https://localhost:8080/",
          "height": 0
        },
        "id": "7Ze9bpTmejjB",
        "outputId": "d960de16-e34a-4824-bf74-148e5f2e8e42"
      },
      "execution_count": 8,
      "outputs": [
        {
          "output_type": "execute_result",
          "data": {
            "text/plain": [
              "       Order ID Product Quantity Ordered Price Each Order Date  \\\n",
              "1           NaN     NaN              NaN        NaN        NaN   \n",
              "356         NaN     NaN              NaN        NaN        NaN   \n",
              "735         NaN     NaN              NaN        NaN        NaN   \n",
              "1433        NaN     NaN              NaN        NaN        NaN   \n",
              "1553        NaN     NaN              NaN        NaN        NaN   \n",
              "...         ...     ...              ...        ...        ...   \n",
              "185176      NaN     NaN              NaN        NaN        NaN   \n",
              "185438      NaN     NaN              NaN        NaN        NaN   \n",
              "186042      NaN     NaN              NaN        NaN        NaN   \n",
              "186548      NaN     NaN              NaN        NaN        NaN   \n",
              "186826      NaN     NaN              NaN        NaN        NaN   \n",
              "\n",
              "       Purchase Address  \n",
              "1                   NaN  \n",
              "356                 NaN  \n",
              "735                 NaN  \n",
              "1433                NaN  \n",
              "1553                NaN  \n",
              "...                 ...  \n",
              "185176              NaN  \n",
              "185438              NaN  \n",
              "186042              NaN  \n",
              "186548              NaN  \n",
              "186826              NaN  \n",
              "\n",
              "[545 rows x 6 columns]"
            ],
            "text/html": [
              "\n",
              "  <div id=\"df-4cb02c16-c2e3-4ef4-ae5c-90c2aa59d2bd\">\n",
              "    <div class=\"colab-df-container\">\n",
              "      <div>\n",
              "<style scoped>\n",
              "    .dataframe tbody tr th:only-of-type {\n",
              "        vertical-align: middle;\n",
              "    }\n",
              "\n",
              "    .dataframe tbody tr th {\n",
              "        vertical-align: top;\n",
              "    }\n",
              "\n",
              "    .dataframe thead th {\n",
              "        text-align: right;\n",
              "    }\n",
              "</style>\n",
              "<table border=\"1\" class=\"dataframe\">\n",
              "  <thead>\n",
              "    <tr style=\"text-align: right;\">\n",
              "      <th></th>\n",
              "      <th>Order ID</th>\n",
              "      <th>Product</th>\n",
              "      <th>Quantity Ordered</th>\n",
              "      <th>Price Each</th>\n",
              "      <th>Order Date</th>\n",
              "      <th>Purchase Address</th>\n",
              "    </tr>\n",
              "  </thead>\n",
              "  <tbody>\n",
              "    <tr>\n",
              "      <th>1</th>\n",
              "      <td>NaN</td>\n",
              "      <td>NaN</td>\n",
              "      <td>NaN</td>\n",
              "      <td>NaN</td>\n",
              "      <td>NaN</td>\n",
              "      <td>NaN</td>\n",
              "    </tr>\n",
              "    <tr>\n",
              "      <th>356</th>\n",
              "      <td>NaN</td>\n",
              "      <td>NaN</td>\n",
              "      <td>NaN</td>\n",
              "      <td>NaN</td>\n",
              "      <td>NaN</td>\n",
              "      <td>NaN</td>\n",
              "    </tr>\n",
              "    <tr>\n",
              "      <th>735</th>\n",
              "      <td>NaN</td>\n",
              "      <td>NaN</td>\n",
              "      <td>NaN</td>\n",
              "      <td>NaN</td>\n",
              "      <td>NaN</td>\n",
              "      <td>NaN</td>\n",
              "    </tr>\n",
              "    <tr>\n",
              "      <th>1433</th>\n",
              "      <td>NaN</td>\n",
              "      <td>NaN</td>\n",
              "      <td>NaN</td>\n",
              "      <td>NaN</td>\n",
              "      <td>NaN</td>\n",
              "      <td>NaN</td>\n",
              "    </tr>\n",
              "    <tr>\n",
              "      <th>1553</th>\n",
              "      <td>NaN</td>\n",
              "      <td>NaN</td>\n",
              "      <td>NaN</td>\n",
              "      <td>NaN</td>\n",
              "      <td>NaN</td>\n",
              "      <td>NaN</td>\n",
              "    </tr>\n",
              "    <tr>\n",
              "      <th>...</th>\n",
              "      <td>...</td>\n",
              "      <td>...</td>\n",
              "      <td>...</td>\n",
              "      <td>...</td>\n",
              "      <td>...</td>\n",
              "      <td>...</td>\n",
              "    </tr>\n",
              "    <tr>\n",
              "      <th>185176</th>\n",
              "      <td>NaN</td>\n",
              "      <td>NaN</td>\n",
              "      <td>NaN</td>\n",
              "      <td>NaN</td>\n",
              "      <td>NaN</td>\n",
              "      <td>NaN</td>\n",
              "    </tr>\n",
              "    <tr>\n",
              "      <th>185438</th>\n",
              "      <td>NaN</td>\n",
              "      <td>NaN</td>\n",
              "      <td>NaN</td>\n",
              "      <td>NaN</td>\n",
              "      <td>NaN</td>\n",
              "      <td>NaN</td>\n",
              "    </tr>\n",
              "    <tr>\n",
              "      <th>186042</th>\n",
              "      <td>NaN</td>\n",
              "      <td>NaN</td>\n",
              "      <td>NaN</td>\n",
              "      <td>NaN</td>\n",
              "      <td>NaN</td>\n",
              "      <td>NaN</td>\n",
              "    </tr>\n",
              "    <tr>\n",
              "      <th>186548</th>\n",
              "      <td>NaN</td>\n",
              "      <td>NaN</td>\n",
              "      <td>NaN</td>\n",
              "      <td>NaN</td>\n",
              "      <td>NaN</td>\n",
              "      <td>NaN</td>\n",
              "    </tr>\n",
              "    <tr>\n",
              "      <th>186826</th>\n",
              "      <td>NaN</td>\n",
              "      <td>NaN</td>\n",
              "      <td>NaN</td>\n",
              "      <td>NaN</td>\n",
              "      <td>NaN</td>\n",
              "      <td>NaN</td>\n",
              "    </tr>\n",
              "  </tbody>\n",
              "</table>\n",
              "<p>545 rows × 6 columns</p>\n",
              "</div>\n",
              "      <button class=\"colab-df-convert\" onclick=\"convertToInteractive('df-4cb02c16-c2e3-4ef4-ae5c-90c2aa59d2bd')\"\n",
              "              title=\"Convert this dataframe to an interactive table.\"\n",
              "              style=\"display:none;\">\n",
              "        \n",
              "  <svg xmlns=\"http://www.w3.org/2000/svg\" height=\"24px\"viewBox=\"0 0 24 24\"\n",
              "       width=\"24px\">\n",
              "    <path d=\"M0 0h24v24H0V0z\" fill=\"none\"/>\n",
              "    <path d=\"M18.56 5.44l.94 2.06.94-2.06 2.06-.94-2.06-.94-.94-2.06-.94 2.06-2.06.94zm-11 1L8.5 8.5l.94-2.06 2.06-.94-2.06-.94L8.5 2.5l-.94 2.06-2.06.94zm10 10l.94 2.06.94-2.06 2.06-.94-2.06-.94-.94-2.06-.94 2.06-2.06.94z\"/><path d=\"M17.41 7.96l-1.37-1.37c-.4-.4-.92-.59-1.43-.59-.52 0-1.04.2-1.43.59L10.3 9.45l-7.72 7.72c-.78.78-.78 2.05 0 2.83L4 21.41c.39.39.9.59 1.41.59.51 0 1.02-.2 1.41-.59l7.78-7.78 2.81-2.81c.8-.78.8-2.07 0-2.86zM5.41 20L4 18.59l7.72-7.72 1.47 1.35L5.41 20z\"/>\n",
              "  </svg>\n",
              "      </button>\n",
              "      \n",
              "  <style>\n",
              "    .colab-df-container {\n",
              "      display:flex;\n",
              "      flex-wrap:wrap;\n",
              "      gap: 12px;\n",
              "    }\n",
              "\n",
              "    .colab-df-convert {\n",
              "      background-color: #E8F0FE;\n",
              "      border: none;\n",
              "      border-radius: 50%;\n",
              "      cursor: pointer;\n",
              "      display: none;\n",
              "      fill: #1967D2;\n",
              "      height: 32px;\n",
              "      padding: 0 0 0 0;\n",
              "      width: 32px;\n",
              "    }\n",
              "\n",
              "    .colab-df-convert:hover {\n",
              "      background-color: #E2EBFA;\n",
              "      box-shadow: 0px 1px 2px rgba(60, 64, 67, 0.3), 0px 1px 3px 1px rgba(60, 64, 67, 0.15);\n",
              "      fill: #174EA6;\n",
              "    }\n",
              "\n",
              "    [theme=dark] .colab-df-convert {\n",
              "      background-color: #3B4455;\n",
              "      fill: #D2E3FC;\n",
              "    }\n",
              "\n",
              "    [theme=dark] .colab-df-convert:hover {\n",
              "      background-color: #434B5C;\n",
              "      box-shadow: 0px 1px 3px 1px rgba(0, 0, 0, 0.15);\n",
              "      filter: drop-shadow(0px 1px 2px rgba(0, 0, 0, 0.3));\n",
              "      fill: #FFFFFF;\n",
              "    }\n",
              "  </style>\n",
              "\n",
              "      <script>\n",
              "        const buttonEl =\n",
              "          document.querySelector('#df-4cb02c16-c2e3-4ef4-ae5c-90c2aa59d2bd button.colab-df-convert');\n",
              "        buttonEl.style.display =\n",
              "          google.colab.kernel.accessAllowed ? 'block' : 'none';\n",
              "\n",
              "        async function convertToInteractive(key) {\n",
              "          const element = document.querySelector('#df-4cb02c16-c2e3-4ef4-ae5c-90c2aa59d2bd');\n",
              "          const dataTable =\n",
              "            await google.colab.kernel.invokeFunction('convertToInteractive',\n",
              "                                                     [key], {});\n",
              "          if (!dataTable) return;\n",
              "\n",
              "          const docLinkHtml = 'Like what you see? Visit the ' +\n",
              "            '<a target=\"_blank\" href=https://colab.research.google.com/notebooks/data_table.ipynb>data table notebook</a>'\n",
              "            + ' to learn more about interactive tables.';\n",
              "          element.innerHTML = '';\n",
              "          dataTable['output_type'] = 'display_data';\n",
              "          await google.colab.output.renderOutput(dataTable, element);\n",
              "          const docLink = document.createElement('div');\n",
              "          docLink.innerHTML = docLinkHtml;\n",
              "          element.appendChild(docLink);\n",
              "        }\n",
              "      </script>\n",
              "    </div>\n",
              "  </div>\n",
              "  "
            ]
          },
          "metadata": {},
          "execution_count": 8
        }
      ]
    },
    {
      "cell_type": "markdown",
      "source": [
        "Jumlah baris pada tiap kolom yang memiliki nilai NaN dapat dihitung menggunakan fungsi *sum()*."
      ],
      "metadata": {
        "id": "vHy2HNc21oeG"
      }
    },
    {
      "cell_type": "code",
      "source": [
        "df.isna().sum()"
      ],
      "metadata": {
        "colab": {
          "base_uri": "https://localhost:8080/"
        },
        "id": "NfL2kPaxd6z1",
        "outputId": "c496da50-f706-4845-d354-c636a4472436"
      },
      "execution_count": 9,
      "outputs": [
        {
          "output_type": "execute_result",
          "data": {
            "text/plain": [
              "Order ID            545\n",
              "Product             545\n",
              "Quantity Ordered    545\n",
              "Price Each          545\n",
              "Order Date          545\n",
              "Purchase Address    545\n",
              "dtype: int64"
            ]
          },
          "metadata": {},
          "execution_count": 9
        }
      ]
    },
    {
      "cell_type": "markdown",
      "source": [
        "Dan jumlah keseluruhan nilai NaN dalam dataset tersebut."
      ],
      "metadata": {
        "id": "gJowcfNg15CB"
      }
    },
    {
      "cell_type": "code",
      "source": [
        "df.isna().sum().sum()"
      ],
      "metadata": {
        "colab": {
          "base_uri": "https://localhost:8080/"
        },
        "id": "NHyZc8C0eMgU",
        "outputId": "1b7db6e6-b7ba-4bca-f919-d16ad6735299"
      },
      "execution_count": 10,
      "outputs": [
        {
          "output_type": "execute_result",
          "data": {
            "text/plain": [
              "3270"
            ]
          },
          "metadata": {},
          "execution_count": 10
        }
      ]
    },
    {
      "cell_type": "markdown",
      "source": [
        "## B.4 Tipe Data"
      ],
      "metadata": {
        "id": "hLu6XaH0Cojx"
      }
    },
    {
      "cell_type": "markdown",
      "source": [
        "Tipe data dari dataset dapat diketahui menggunakan fungsi .dtypes"
      ],
      "metadata": {
        "id": "UISBYNfLQOTX"
      }
    },
    {
      "cell_type": "code",
      "source": [
        "df.dtypes"
      ],
      "metadata": {
        "colab": {
          "base_uri": "https://localhost:8080/"
        },
        "id": "_b3Zfnxl6t7W",
        "outputId": "6bedc3a0-8cee-44f8-fa18-ebbe1de782bf"
      },
      "execution_count": 11,
      "outputs": [
        {
          "output_type": "execute_result",
          "data": {
            "text/plain": [
              "Order ID            object\n",
              "Product             object\n",
              "Quantity Ordered    object\n",
              "Price Each          object\n",
              "Order Date          object\n",
              "Purchase Address    object\n",
              "dtype: object"
            ]
          },
          "metadata": {},
          "execution_count": 11
        }
      ]
    },
    {
      "cell_type": "markdown",
      "source": [
        "Semua isi dari dataset tersebut adalah object, dimana data tersebut belum dapat diolah. Type data tiap kolom dapat diubah menjadi dtring, float, integer, datetime dan lain-lain berdasarkan kebutuhan. Konversi type data dapat dilakukan sebagai berikut."
      ],
      "metadata": {
        "id": "Hl2I5hjdQaxb"
      }
    },
    {
      "cell_type": "code",
      "source": [
        "df['Order ID'] = pd.to_numeric(df['Order ID'],errors = 'coerce').astype('Int64')\n",
        "df['Price Each'] = pd.to_numeric(df['Price Each'],errors = 'coerce')\n",
        "df['Order Date'] = pd.to_datetime(df['Order Date'], errors='coerce',format= \"%m/%d/%y %H:%M\")\n",
        "df['Quantity Ordered'] = pd.to_numeric(df['Quantity Ordered'],errors = 'coerce').astype('Int64')\n",
        "df['Product'] = df['Product'].astype('string')\n",
        "df['Purchase Address'] = df['Purchase Address'].astype('string')"
      ],
      "metadata": {
        "id": "mrrcettiF523"
      },
      "execution_count": 12,
      "outputs": []
    },
    {
      "cell_type": "markdown",
      "source": [
        "Setelah dikonversi, type data dapat dicek lagi untuk memastikan hasilnya."
      ],
      "metadata": {
        "id": "84WYo2vlRBBT"
      }
    },
    {
      "cell_type": "code",
      "source": [
        "df.dtypes"
      ],
      "metadata": {
        "colab": {
          "base_uri": "https://localhost:8080/"
        },
        "id": "ARcFuHGrHVRb",
        "outputId": "d429c8d1-d14f-459a-c33f-4e5ad09a9406"
      },
      "execution_count": 13,
      "outputs": [
        {
          "output_type": "execute_result",
          "data": {
            "text/plain": [
              "Order ID                     Int64\n",
              "Product                     string\n",
              "Quantity Ordered             Int64\n",
              "Price Each                 float64\n",
              "Order Date          datetime64[ns]\n",
              "Purchase Address            string\n",
              "dtype: object"
            ]
          },
          "metadata": {},
          "execution_count": 13
        }
      ]
    },
    {
      "cell_type": "markdown",
      "source": [
        "Missing value juga dapat dicek ulang, untuk memastikan apakah ada missing value setelah konversi type data."
      ],
      "metadata": {
        "id": "NMi2ezXyROdC"
      }
    },
    {
      "cell_type": "code",
      "source": [
        "df.isna().sum()"
      ],
      "metadata": {
        "colab": {
          "base_uri": "https://localhost:8080/"
        },
        "id": "0ZH01-IfExMO",
        "outputId": "ca2b9e66-bb84-423b-91c6-b1a2a8220725"
      },
      "execution_count": 14,
      "outputs": [
        {
          "output_type": "execute_result",
          "data": {
            "text/plain": [
              "Order ID            900\n",
              "Product             545\n",
              "Quantity Ordered    900\n",
              "Price Each          900\n",
              "Order Date          900\n",
              "Purchase Address    545\n",
              "dtype: int64"
            ]
          },
          "metadata": {},
          "execution_count": 14
        }
      ]
    },
    {
      "cell_type": "code",
      "source": [
        "df.isna().sum().sum()"
      ],
      "metadata": {
        "colab": {
          "base_uri": "https://localhost:8080/"
        },
        "id": "M7z3o3TcE7SU",
        "outputId": "ede50f90-fe00-4cd4-8ee1-a033ce8e2bd5"
      },
      "execution_count": 15,
      "outputs": [
        {
          "output_type": "execute_result",
          "data": {
            "text/plain": [
              "4690"
            ]
          },
          "metadata": {},
          "execution_count": 15
        }
      ]
    },
    {
      "cell_type": "markdown",
      "source": [
        "## B.5. Menghapus Missing Value"
      ],
      "metadata": {
        "id": "OA3jLuxh2nZ0"
      }
    },
    {
      "cell_type": "markdown",
      "source": [
        "Baris yang mengandung missing value dapat dihapus menggunakan fungsi *dropna()*."
      ],
      "metadata": {
        "id": "JkY5kTxr3VUE"
      }
    },
    {
      "cell_type": "code",
      "source": [
        "df_clean = df.dropna()"
      ],
      "metadata": {
        "id": "ZqcHpJihjibS"
      },
      "execution_count": 16,
      "outputs": []
    },
    {
      "cell_type": "markdown",
      "source": [
        "Untuk memastikan dataset sudah bersih dari nilai NaN, dapat dicek ulang menggunakan fungsi *isna().any()* dan jumlahnya menggunakan fungsi *isna().sum().sum()*."
      ],
      "metadata": {
        "id": "ruZbGcs74_pY"
      }
    },
    {
      "cell_type": "code",
      "source": [
        "df_clean.isna().any()"
      ],
      "metadata": {
        "colab": {
          "base_uri": "https://localhost:8080/"
        },
        "id": "Erj5mQarkHse",
        "outputId": "c0a6029e-e5bf-45d7-f03a-1c401c82d9cf"
      },
      "execution_count": 17,
      "outputs": [
        {
          "output_type": "execute_result",
          "data": {
            "text/plain": [
              "Order ID            False\n",
              "Product             False\n",
              "Quantity Ordered    False\n",
              "Price Each          False\n",
              "Order Date          False\n",
              "Purchase Address    False\n",
              "dtype: bool"
            ]
          },
          "metadata": {},
          "execution_count": 17
        }
      ]
    },
    {
      "cell_type": "code",
      "source": [
        "df_clean.isna().sum().sum()"
      ],
      "metadata": {
        "colab": {
          "base_uri": "https://localhost:8080/"
        },
        "id": "hHs-LLHbkQAl",
        "outputId": "8d68d742-4202-4cc9-c7b3-c868311b1fa9"
      },
      "execution_count": 18,
      "outputs": [
        {
          "output_type": "execute_result",
          "data": {
            "text/plain": [
              "0"
            ]
          },
          "metadata": {},
          "execution_count": 18
        }
      ]
    },
    {
      "cell_type": "markdown",
      "source": [
        "# C. Pendapatan Tertinggi dan Terendah"
      ],
      "metadata": {
        "id": "nxn3owh96g1j"
      }
    },
    {
      "cell_type": "markdown",
      "source": [
        "## C.1. Pendapatan"
      ],
      "metadata": {
        "id": "Htp8PWIAynJ6"
      }
    },
    {
      "cell_type": "markdown",
      "source": [
        "Pendapatan tertinggi dapat diperoleh dengan data Quantity Ordered dan Price Each. Kedua data tersebut dikalikan untuk memperoleh pendapatan.\n",
        "\n",
        "Untuk pendapatan pada tiap baris pada dataset dibuat pada kolom baru yang merupakan hasil kali kolom Quantity Ordered dengan Price Each."
      ],
      "metadata": {
        "id": "oixYds6uxlgQ"
      }
    },
    {
      "cell_type": "code",
      "source": [
        "df_clean['Income'] = df_clean['Price Each'] * df_clean['Quantity Ordered']"
      ],
      "metadata": {
        "id": "7HVow2a_PDEf",
        "colab": {
          "base_uri": "https://localhost:8080/"
        },
        "outputId": "a2cd086a-da1f-47fd-b4ac-12c71e29077d"
      },
      "execution_count": 19,
      "outputs": [
        {
          "output_type": "stream",
          "name": "stderr",
          "text": [
            "/usr/local/lib/python3.7/dist-packages/ipykernel_launcher.py:1: SettingWithCopyWarning: \n",
            "A value is trying to be set on a copy of a slice from a DataFrame.\n",
            "Try using .loc[row_indexer,col_indexer] = value instead\n",
            "\n",
            "See the caveats in the documentation: https://pandas.pydata.org/pandas-docs/stable/user_guide/indexing.html#returning-a-view-versus-a-copy\n",
            "  \"\"\"Entry point for launching an IPython kernel.\n"
          ]
        }
      ]
    },
    {
      "cell_type": "code",
      "source": [
        "df_clean"
      ],
      "metadata": {
        "colab": {
          "base_uri": "https://localhost:8080/",
          "height": 659
        },
        "id": "6SYVdReDD-el",
        "outputId": "bd7c3c8c-648f-4739-ac80-5fa67e6e1c07"
      },
      "execution_count": 20,
      "outputs": [
        {
          "output_type": "execute_result",
          "data": {
            "text/plain": [
              "        Order ID                     Product  Quantity Ordered  Price Each  \\\n",
              "0         176558        USB-C Charging Cable                 2       11.95   \n",
              "2         176559  Bose SoundSport Headphones                 1       99.99   \n",
              "3         176560                Google Phone                 1      600.00   \n",
              "4         176560            Wired Headphones                 1       11.99   \n",
              "5         176561            Wired Headphones                 1       11.99   \n",
              "...          ...                         ...               ...         ...   \n",
              "186845    259353      AAA Batteries (4-pack)                 3        2.99   \n",
              "186846    259354                      iPhone                 1      700.00   \n",
              "186847    259355                      iPhone                 1      700.00   \n",
              "186848    259356      34in Ultrawide Monitor                 1      379.99   \n",
              "186849    259357        USB-C Charging Cable                 1       11.95   \n",
              "\n",
              "                Order Date                         Purchase Address  Income  \n",
              "0      2019-04-19 08:46:00             917 1st St, Dallas, TX 75001    23.9  \n",
              "2      2019-04-07 22:30:00        682 Chestnut St, Boston, MA 02215   99.99  \n",
              "3      2019-04-12 14:38:00     669 Spruce St, Los Angeles, CA 90001   600.0  \n",
              "4      2019-04-12 14:38:00     669 Spruce St, Los Angeles, CA 90001   11.99  \n",
              "5      2019-04-30 09:27:00        333 8th St, Los Angeles, CA 90001   11.99  \n",
              "...                    ...                                      ...     ...  \n",
              "186845 2019-09-17 20:56:00   840 Highland St, Los Angeles, CA 90001    8.97  \n",
              "186846 2019-09-01 16:00:00  216 Dogwood St, San Francisco, CA 94016   700.0  \n",
              "186847 2019-09-23 07:39:00     220 12th St, San Francisco, CA 94016   700.0  \n",
              "186848 2019-09-19 17:30:00   511 Forest St, San Francisco, CA 94016  379.99  \n",
              "186849 2019-09-30 00:18:00   250 Meadow St, San Francisco, CA 94016   11.95  \n",
              "\n",
              "[185950 rows x 7 columns]"
            ],
            "text/html": [
              "\n",
              "  <div id=\"df-fc9fe235-c57c-4a86-ac0d-22ea463a918f\">\n",
              "    <div class=\"colab-df-container\">\n",
              "      <div>\n",
              "<style scoped>\n",
              "    .dataframe tbody tr th:only-of-type {\n",
              "        vertical-align: middle;\n",
              "    }\n",
              "\n",
              "    .dataframe tbody tr th {\n",
              "        vertical-align: top;\n",
              "    }\n",
              "\n",
              "    .dataframe thead th {\n",
              "        text-align: right;\n",
              "    }\n",
              "</style>\n",
              "<table border=\"1\" class=\"dataframe\">\n",
              "  <thead>\n",
              "    <tr style=\"text-align: right;\">\n",
              "      <th></th>\n",
              "      <th>Order ID</th>\n",
              "      <th>Product</th>\n",
              "      <th>Quantity Ordered</th>\n",
              "      <th>Price Each</th>\n",
              "      <th>Order Date</th>\n",
              "      <th>Purchase Address</th>\n",
              "      <th>Income</th>\n",
              "    </tr>\n",
              "  </thead>\n",
              "  <tbody>\n",
              "    <tr>\n",
              "      <th>0</th>\n",
              "      <td>176558</td>\n",
              "      <td>USB-C Charging Cable</td>\n",
              "      <td>2</td>\n",
              "      <td>11.95</td>\n",
              "      <td>2019-04-19 08:46:00</td>\n",
              "      <td>917 1st St, Dallas, TX 75001</td>\n",
              "      <td>23.9</td>\n",
              "    </tr>\n",
              "    <tr>\n",
              "      <th>2</th>\n",
              "      <td>176559</td>\n",
              "      <td>Bose SoundSport Headphones</td>\n",
              "      <td>1</td>\n",
              "      <td>99.99</td>\n",
              "      <td>2019-04-07 22:30:00</td>\n",
              "      <td>682 Chestnut St, Boston, MA 02215</td>\n",
              "      <td>99.99</td>\n",
              "    </tr>\n",
              "    <tr>\n",
              "      <th>3</th>\n",
              "      <td>176560</td>\n",
              "      <td>Google Phone</td>\n",
              "      <td>1</td>\n",
              "      <td>600.00</td>\n",
              "      <td>2019-04-12 14:38:00</td>\n",
              "      <td>669 Spruce St, Los Angeles, CA 90001</td>\n",
              "      <td>600.0</td>\n",
              "    </tr>\n",
              "    <tr>\n",
              "      <th>4</th>\n",
              "      <td>176560</td>\n",
              "      <td>Wired Headphones</td>\n",
              "      <td>1</td>\n",
              "      <td>11.99</td>\n",
              "      <td>2019-04-12 14:38:00</td>\n",
              "      <td>669 Spruce St, Los Angeles, CA 90001</td>\n",
              "      <td>11.99</td>\n",
              "    </tr>\n",
              "    <tr>\n",
              "      <th>5</th>\n",
              "      <td>176561</td>\n",
              "      <td>Wired Headphones</td>\n",
              "      <td>1</td>\n",
              "      <td>11.99</td>\n",
              "      <td>2019-04-30 09:27:00</td>\n",
              "      <td>333 8th St, Los Angeles, CA 90001</td>\n",
              "      <td>11.99</td>\n",
              "    </tr>\n",
              "    <tr>\n",
              "      <th>...</th>\n",
              "      <td>...</td>\n",
              "      <td>...</td>\n",
              "      <td>...</td>\n",
              "      <td>...</td>\n",
              "      <td>...</td>\n",
              "      <td>...</td>\n",
              "      <td>...</td>\n",
              "    </tr>\n",
              "    <tr>\n",
              "      <th>186845</th>\n",
              "      <td>259353</td>\n",
              "      <td>AAA Batteries (4-pack)</td>\n",
              "      <td>3</td>\n",
              "      <td>2.99</td>\n",
              "      <td>2019-09-17 20:56:00</td>\n",
              "      <td>840 Highland St, Los Angeles, CA 90001</td>\n",
              "      <td>8.97</td>\n",
              "    </tr>\n",
              "    <tr>\n",
              "      <th>186846</th>\n",
              "      <td>259354</td>\n",
              "      <td>iPhone</td>\n",
              "      <td>1</td>\n",
              "      <td>700.00</td>\n",
              "      <td>2019-09-01 16:00:00</td>\n",
              "      <td>216 Dogwood St, San Francisco, CA 94016</td>\n",
              "      <td>700.0</td>\n",
              "    </tr>\n",
              "    <tr>\n",
              "      <th>186847</th>\n",
              "      <td>259355</td>\n",
              "      <td>iPhone</td>\n",
              "      <td>1</td>\n",
              "      <td>700.00</td>\n",
              "      <td>2019-09-23 07:39:00</td>\n",
              "      <td>220 12th St, San Francisco, CA 94016</td>\n",
              "      <td>700.0</td>\n",
              "    </tr>\n",
              "    <tr>\n",
              "      <th>186848</th>\n",
              "      <td>259356</td>\n",
              "      <td>34in Ultrawide Monitor</td>\n",
              "      <td>1</td>\n",
              "      <td>379.99</td>\n",
              "      <td>2019-09-19 17:30:00</td>\n",
              "      <td>511 Forest St, San Francisco, CA 94016</td>\n",
              "      <td>379.99</td>\n",
              "    </tr>\n",
              "    <tr>\n",
              "      <th>186849</th>\n",
              "      <td>259357</td>\n",
              "      <td>USB-C Charging Cable</td>\n",
              "      <td>1</td>\n",
              "      <td>11.95</td>\n",
              "      <td>2019-09-30 00:18:00</td>\n",
              "      <td>250 Meadow St, San Francisco, CA 94016</td>\n",
              "      <td>11.95</td>\n",
              "    </tr>\n",
              "  </tbody>\n",
              "</table>\n",
              "<p>185950 rows × 7 columns</p>\n",
              "</div>\n",
              "      <button class=\"colab-df-convert\" onclick=\"convertToInteractive('df-fc9fe235-c57c-4a86-ac0d-22ea463a918f')\"\n",
              "              title=\"Convert this dataframe to an interactive table.\"\n",
              "              style=\"display:none;\">\n",
              "        \n",
              "  <svg xmlns=\"http://www.w3.org/2000/svg\" height=\"24px\"viewBox=\"0 0 24 24\"\n",
              "       width=\"24px\">\n",
              "    <path d=\"M0 0h24v24H0V0z\" fill=\"none\"/>\n",
              "    <path d=\"M18.56 5.44l.94 2.06.94-2.06 2.06-.94-2.06-.94-.94-2.06-.94 2.06-2.06.94zm-11 1L8.5 8.5l.94-2.06 2.06-.94-2.06-.94L8.5 2.5l-.94 2.06-2.06.94zm10 10l.94 2.06.94-2.06 2.06-.94-2.06-.94-.94-2.06-.94 2.06-2.06.94z\"/><path d=\"M17.41 7.96l-1.37-1.37c-.4-.4-.92-.59-1.43-.59-.52 0-1.04.2-1.43.59L10.3 9.45l-7.72 7.72c-.78.78-.78 2.05 0 2.83L4 21.41c.39.39.9.59 1.41.59.51 0 1.02-.2 1.41-.59l7.78-7.78 2.81-2.81c.8-.78.8-2.07 0-2.86zM5.41 20L4 18.59l7.72-7.72 1.47 1.35L5.41 20z\"/>\n",
              "  </svg>\n",
              "      </button>\n",
              "      \n",
              "  <style>\n",
              "    .colab-df-container {\n",
              "      display:flex;\n",
              "      flex-wrap:wrap;\n",
              "      gap: 12px;\n",
              "    }\n",
              "\n",
              "    .colab-df-convert {\n",
              "      background-color: #E8F0FE;\n",
              "      border: none;\n",
              "      border-radius: 50%;\n",
              "      cursor: pointer;\n",
              "      display: none;\n",
              "      fill: #1967D2;\n",
              "      height: 32px;\n",
              "      padding: 0 0 0 0;\n",
              "      width: 32px;\n",
              "    }\n",
              "\n",
              "    .colab-df-convert:hover {\n",
              "      background-color: #E2EBFA;\n",
              "      box-shadow: 0px 1px 2px rgba(60, 64, 67, 0.3), 0px 1px 3px 1px rgba(60, 64, 67, 0.15);\n",
              "      fill: #174EA6;\n",
              "    }\n",
              "\n",
              "    [theme=dark] .colab-df-convert {\n",
              "      background-color: #3B4455;\n",
              "      fill: #D2E3FC;\n",
              "    }\n",
              "\n",
              "    [theme=dark] .colab-df-convert:hover {\n",
              "      background-color: #434B5C;\n",
              "      box-shadow: 0px 1px 3px 1px rgba(0, 0, 0, 0.15);\n",
              "      filter: drop-shadow(0px 1px 2px rgba(0, 0, 0, 0.3));\n",
              "      fill: #FFFFFF;\n",
              "    }\n",
              "  </style>\n",
              "\n",
              "      <script>\n",
              "        const buttonEl =\n",
              "          document.querySelector('#df-fc9fe235-c57c-4a86-ac0d-22ea463a918f button.colab-df-convert');\n",
              "        buttonEl.style.display =\n",
              "          google.colab.kernel.accessAllowed ? 'block' : 'none';\n",
              "\n",
              "        async function convertToInteractive(key) {\n",
              "          const element = document.querySelector('#df-fc9fe235-c57c-4a86-ac0d-22ea463a918f');\n",
              "          const dataTable =\n",
              "            await google.colab.kernel.invokeFunction('convertToInteractive',\n",
              "                                                     [key], {});\n",
              "          if (!dataTable) return;\n",
              "\n",
              "          const docLinkHtml = 'Like what you see? Visit the ' +\n",
              "            '<a target=\"_blank\" href=https://colab.research.google.com/notebooks/data_table.ipynb>data table notebook</a>'\n",
              "            + ' to learn more about interactive tables.';\n",
              "          element.innerHTML = '';\n",
              "          dataTable['output_type'] = 'display_data';\n",
              "          await google.colab.output.renderOutput(dataTable, element);\n",
              "          const docLink = document.createElement('div');\n",
              "          docLink.innerHTML = docLinkHtml;\n",
              "          element.appendChild(docLink);\n",
              "        }\n",
              "      </script>\n",
              "    </div>\n",
              "  </div>\n",
              "  "
            ]
          },
          "metadata": {},
          "execution_count": 20
        }
      ]
    },
    {
      "cell_type": "markdown",
      "source": [
        "## C.2. Pendapatan per Bulan"
      ],
      "metadata": {
        "id": "_9ICG8gsyipz"
      }
    },
    {
      "cell_type": "markdown",
      "source": [
        "Kita dapat mengetahui pendapatan per bulan dengan metode grouping menggunakan fungsi *.groupby().* Pendapatan per bulan dikelompokkan berdasarkan bulan dan disertakan tahun juga menggunakan fungsi *.dt.strftime('%Y-%m')*."
      ],
      "metadata": {
        "id": "xZPQceLNy1X6"
      }
    },
    {
      "cell_type": "code",
      "source": [
        "income_M = df_clean.groupby(df_clean['Order Date'].dt.strftime('%Y-%m'))[['Income']].sum().reset_index()\n",
        "income_M.rename(columns = {'Order Date':'Year-Month'}, inplace = True)\n",
        "income_M"
      ],
      "metadata": {
        "colab": {
          "base_uri": "https://localhost:8080/",
          "height": 457
        },
        "id": "5lwIIYUMGGZ5",
        "outputId": "c04c0b3d-4d8d-4e8d-fd8f-a5510e74690f"
      },
      "execution_count": 35,
      "outputs": [
        {
          "output_type": "execute_result",
          "data": {
            "text/plain": [
              "   Year-Month      Income\n",
              "0     2019-01  1813586.44\n",
              "1     2019-02  2202022.42\n",
              "2     2019-03  2807100.38\n",
              "3     2019-04  3390670.24\n",
              "4     2019-05  3152606.75\n",
              "5     2019-06  2577802.26\n",
              "6     2019-07  2647775.76\n",
              "7     2019-08  2244467.88\n",
              "8     2019-09  2097560.13\n",
              "9     2019-10  3736726.88\n",
              "10    2019-11   3199603.2\n",
              "11    2019-12  4613443.34\n",
              "12    2020-01     8670.29"
            ],
            "text/html": [
              "\n",
              "  <div id=\"df-37041579-a4d6-421f-a44e-952c3dd4225e\">\n",
              "    <div class=\"colab-df-container\">\n",
              "      <div>\n",
              "<style scoped>\n",
              "    .dataframe tbody tr th:only-of-type {\n",
              "        vertical-align: middle;\n",
              "    }\n",
              "\n",
              "    .dataframe tbody tr th {\n",
              "        vertical-align: top;\n",
              "    }\n",
              "\n",
              "    .dataframe thead th {\n",
              "        text-align: right;\n",
              "    }\n",
              "</style>\n",
              "<table border=\"1\" class=\"dataframe\">\n",
              "  <thead>\n",
              "    <tr style=\"text-align: right;\">\n",
              "      <th></th>\n",
              "      <th>Year-Month</th>\n",
              "      <th>Income</th>\n",
              "    </tr>\n",
              "  </thead>\n",
              "  <tbody>\n",
              "    <tr>\n",
              "      <th>0</th>\n",
              "      <td>2019-01</td>\n",
              "      <td>1813586.44</td>\n",
              "    </tr>\n",
              "    <tr>\n",
              "      <th>1</th>\n",
              "      <td>2019-02</td>\n",
              "      <td>2202022.42</td>\n",
              "    </tr>\n",
              "    <tr>\n",
              "      <th>2</th>\n",
              "      <td>2019-03</td>\n",
              "      <td>2807100.38</td>\n",
              "    </tr>\n",
              "    <tr>\n",
              "      <th>3</th>\n",
              "      <td>2019-04</td>\n",
              "      <td>3390670.24</td>\n",
              "    </tr>\n",
              "    <tr>\n",
              "      <th>4</th>\n",
              "      <td>2019-05</td>\n",
              "      <td>3152606.75</td>\n",
              "    </tr>\n",
              "    <tr>\n",
              "      <th>5</th>\n",
              "      <td>2019-06</td>\n",
              "      <td>2577802.26</td>\n",
              "    </tr>\n",
              "    <tr>\n",
              "      <th>6</th>\n",
              "      <td>2019-07</td>\n",
              "      <td>2647775.76</td>\n",
              "    </tr>\n",
              "    <tr>\n",
              "      <th>7</th>\n",
              "      <td>2019-08</td>\n",
              "      <td>2244467.88</td>\n",
              "    </tr>\n",
              "    <tr>\n",
              "      <th>8</th>\n",
              "      <td>2019-09</td>\n",
              "      <td>2097560.13</td>\n",
              "    </tr>\n",
              "    <tr>\n",
              "      <th>9</th>\n",
              "      <td>2019-10</td>\n",
              "      <td>3736726.88</td>\n",
              "    </tr>\n",
              "    <tr>\n",
              "      <th>10</th>\n",
              "      <td>2019-11</td>\n",
              "      <td>3199603.2</td>\n",
              "    </tr>\n",
              "    <tr>\n",
              "      <th>11</th>\n",
              "      <td>2019-12</td>\n",
              "      <td>4613443.34</td>\n",
              "    </tr>\n",
              "    <tr>\n",
              "      <th>12</th>\n",
              "      <td>2020-01</td>\n",
              "      <td>8670.29</td>\n",
              "    </tr>\n",
              "  </tbody>\n",
              "</table>\n",
              "</div>\n",
              "      <button class=\"colab-df-convert\" onclick=\"convertToInteractive('df-37041579-a4d6-421f-a44e-952c3dd4225e')\"\n",
              "              title=\"Convert this dataframe to an interactive table.\"\n",
              "              style=\"display:none;\">\n",
              "        \n",
              "  <svg xmlns=\"http://www.w3.org/2000/svg\" height=\"24px\"viewBox=\"0 0 24 24\"\n",
              "       width=\"24px\">\n",
              "    <path d=\"M0 0h24v24H0V0z\" fill=\"none\"/>\n",
              "    <path d=\"M18.56 5.44l.94 2.06.94-2.06 2.06-.94-2.06-.94-.94-2.06-.94 2.06-2.06.94zm-11 1L8.5 8.5l.94-2.06 2.06-.94-2.06-.94L8.5 2.5l-.94 2.06-2.06.94zm10 10l.94 2.06.94-2.06 2.06-.94-2.06-.94-.94-2.06-.94 2.06-2.06.94z\"/><path d=\"M17.41 7.96l-1.37-1.37c-.4-.4-.92-.59-1.43-.59-.52 0-1.04.2-1.43.59L10.3 9.45l-7.72 7.72c-.78.78-.78 2.05 0 2.83L4 21.41c.39.39.9.59 1.41.59.51 0 1.02-.2 1.41-.59l7.78-7.78 2.81-2.81c.8-.78.8-2.07 0-2.86zM5.41 20L4 18.59l7.72-7.72 1.47 1.35L5.41 20z\"/>\n",
              "  </svg>\n",
              "      </button>\n",
              "      \n",
              "  <style>\n",
              "    .colab-df-container {\n",
              "      display:flex;\n",
              "      flex-wrap:wrap;\n",
              "      gap: 12px;\n",
              "    }\n",
              "\n",
              "    .colab-df-convert {\n",
              "      background-color: #E8F0FE;\n",
              "      border: none;\n",
              "      border-radius: 50%;\n",
              "      cursor: pointer;\n",
              "      display: none;\n",
              "      fill: #1967D2;\n",
              "      height: 32px;\n",
              "      padding: 0 0 0 0;\n",
              "      width: 32px;\n",
              "    }\n",
              "\n",
              "    .colab-df-convert:hover {\n",
              "      background-color: #E2EBFA;\n",
              "      box-shadow: 0px 1px 2px rgba(60, 64, 67, 0.3), 0px 1px 3px 1px rgba(60, 64, 67, 0.15);\n",
              "      fill: #174EA6;\n",
              "    }\n",
              "\n",
              "    [theme=dark] .colab-df-convert {\n",
              "      background-color: #3B4455;\n",
              "      fill: #D2E3FC;\n",
              "    }\n",
              "\n",
              "    [theme=dark] .colab-df-convert:hover {\n",
              "      background-color: #434B5C;\n",
              "      box-shadow: 0px 1px 3px 1px rgba(0, 0, 0, 0.15);\n",
              "      filter: drop-shadow(0px 1px 2px rgba(0, 0, 0, 0.3));\n",
              "      fill: #FFFFFF;\n",
              "    }\n",
              "  </style>\n",
              "\n",
              "      <script>\n",
              "        const buttonEl =\n",
              "          document.querySelector('#df-37041579-a4d6-421f-a44e-952c3dd4225e button.colab-df-convert');\n",
              "        buttonEl.style.display =\n",
              "          google.colab.kernel.accessAllowed ? 'block' : 'none';\n",
              "\n",
              "        async function convertToInteractive(key) {\n",
              "          const element = document.querySelector('#df-37041579-a4d6-421f-a44e-952c3dd4225e');\n",
              "          const dataTable =\n",
              "            await google.colab.kernel.invokeFunction('convertToInteractive',\n",
              "                                                     [key], {});\n",
              "          if (!dataTable) return;\n",
              "\n",
              "          const docLinkHtml = 'Like what you see? Visit the ' +\n",
              "            '<a target=\"_blank\" href=https://colab.research.google.com/notebooks/data_table.ipynb>data table notebook</a>'\n",
              "            + ' to learn more about interactive tables.';\n",
              "          element.innerHTML = '';\n",
              "          dataTable['output_type'] = 'display_data';\n",
              "          await google.colab.output.renderOutput(dataTable, element);\n",
              "          const docLink = document.createElement('div');\n",
              "          docLink.innerHTML = docLinkHtml;\n",
              "          element.appendChild(docLink);\n",
              "        }\n",
              "      </script>\n",
              "    </div>\n",
              "  </div>\n",
              "  "
            ]
          },
          "metadata": {},
          "execution_count": 35
        }
      ]
    },
    {
      "cell_type": "markdown",
      "source": [
        "## C.3. Pendapatan tertinggi dan terendah"
      ],
      "metadata": {
        "id": "1CrEuedTz46c"
      }
    },
    {
      "cell_type": "markdown",
      "source": [
        "Pendapatan tertinggi dan terendah dapat ditentukan dengan menerapkan fungsi .aggregate() pada hasil grouping tadi."
      ],
      "metadata": {
        "id": "AS2LxlLw0ESG"
      }
    },
    {
      "cell_type": "code",
      "source": [
        "income_M.aggregate(['max','min'])"
      ],
      "metadata": {
        "colab": {
          "base_uri": "https://localhost:8080/",
          "height": 112
        },
        "id": "1ggXYNPPIcKu",
        "outputId": "9d0f7a8a-b333-4bf7-c3fd-9f833cef71a4"
      },
      "execution_count": 36,
      "outputs": [
        {
          "output_type": "execute_result",
          "data": {
            "text/plain": [
              "    Year-Month      Income\n",
              "max    2020-01  4613443.34\n",
              "min    2019-01     8670.29"
            ],
            "text/html": [
              "\n",
              "  <div id=\"df-1b8e8b27-ad47-4b3e-86ea-c3dd3a841735\">\n",
              "    <div class=\"colab-df-container\">\n",
              "      <div>\n",
              "<style scoped>\n",
              "    .dataframe tbody tr th:only-of-type {\n",
              "        vertical-align: middle;\n",
              "    }\n",
              "\n",
              "    .dataframe tbody tr th {\n",
              "        vertical-align: top;\n",
              "    }\n",
              "\n",
              "    .dataframe thead th {\n",
              "        text-align: right;\n",
              "    }\n",
              "</style>\n",
              "<table border=\"1\" class=\"dataframe\">\n",
              "  <thead>\n",
              "    <tr style=\"text-align: right;\">\n",
              "      <th></th>\n",
              "      <th>Year-Month</th>\n",
              "      <th>Income</th>\n",
              "    </tr>\n",
              "  </thead>\n",
              "  <tbody>\n",
              "    <tr>\n",
              "      <th>max</th>\n",
              "      <td>2020-01</td>\n",
              "      <td>4613443.34</td>\n",
              "    </tr>\n",
              "    <tr>\n",
              "      <th>min</th>\n",
              "      <td>2019-01</td>\n",
              "      <td>8670.29</td>\n",
              "    </tr>\n",
              "  </tbody>\n",
              "</table>\n",
              "</div>\n",
              "      <button class=\"colab-df-convert\" onclick=\"convertToInteractive('df-1b8e8b27-ad47-4b3e-86ea-c3dd3a841735')\"\n",
              "              title=\"Convert this dataframe to an interactive table.\"\n",
              "              style=\"display:none;\">\n",
              "        \n",
              "  <svg xmlns=\"http://www.w3.org/2000/svg\" height=\"24px\"viewBox=\"0 0 24 24\"\n",
              "       width=\"24px\">\n",
              "    <path d=\"M0 0h24v24H0V0z\" fill=\"none\"/>\n",
              "    <path d=\"M18.56 5.44l.94 2.06.94-2.06 2.06-.94-2.06-.94-.94-2.06-.94 2.06-2.06.94zm-11 1L8.5 8.5l.94-2.06 2.06-.94-2.06-.94L8.5 2.5l-.94 2.06-2.06.94zm10 10l.94 2.06.94-2.06 2.06-.94-2.06-.94-.94-2.06-.94 2.06-2.06.94z\"/><path d=\"M17.41 7.96l-1.37-1.37c-.4-.4-.92-.59-1.43-.59-.52 0-1.04.2-1.43.59L10.3 9.45l-7.72 7.72c-.78.78-.78 2.05 0 2.83L4 21.41c.39.39.9.59 1.41.59.51 0 1.02-.2 1.41-.59l7.78-7.78 2.81-2.81c.8-.78.8-2.07 0-2.86zM5.41 20L4 18.59l7.72-7.72 1.47 1.35L5.41 20z\"/>\n",
              "  </svg>\n",
              "      </button>\n",
              "      \n",
              "  <style>\n",
              "    .colab-df-container {\n",
              "      display:flex;\n",
              "      flex-wrap:wrap;\n",
              "      gap: 12px;\n",
              "    }\n",
              "\n",
              "    .colab-df-convert {\n",
              "      background-color: #E8F0FE;\n",
              "      border: none;\n",
              "      border-radius: 50%;\n",
              "      cursor: pointer;\n",
              "      display: none;\n",
              "      fill: #1967D2;\n",
              "      height: 32px;\n",
              "      padding: 0 0 0 0;\n",
              "      width: 32px;\n",
              "    }\n",
              "\n",
              "    .colab-df-convert:hover {\n",
              "      background-color: #E2EBFA;\n",
              "      box-shadow: 0px 1px 2px rgba(60, 64, 67, 0.3), 0px 1px 3px 1px rgba(60, 64, 67, 0.15);\n",
              "      fill: #174EA6;\n",
              "    }\n",
              "\n",
              "    [theme=dark] .colab-df-convert {\n",
              "      background-color: #3B4455;\n",
              "      fill: #D2E3FC;\n",
              "    }\n",
              "\n",
              "    [theme=dark] .colab-df-convert:hover {\n",
              "      background-color: #434B5C;\n",
              "      box-shadow: 0px 1px 3px 1px rgba(0, 0, 0, 0.15);\n",
              "      filter: drop-shadow(0px 1px 2px rgba(0, 0, 0, 0.3));\n",
              "      fill: #FFFFFF;\n",
              "    }\n",
              "  </style>\n",
              "\n",
              "      <script>\n",
              "        const buttonEl =\n",
              "          document.querySelector('#df-1b8e8b27-ad47-4b3e-86ea-c3dd3a841735 button.colab-df-convert');\n",
              "        buttonEl.style.display =\n",
              "          google.colab.kernel.accessAllowed ? 'block' : 'none';\n",
              "\n",
              "        async function convertToInteractive(key) {\n",
              "          const element = document.querySelector('#df-1b8e8b27-ad47-4b3e-86ea-c3dd3a841735');\n",
              "          const dataTable =\n",
              "            await google.colab.kernel.invokeFunction('convertToInteractive',\n",
              "                                                     [key], {});\n",
              "          if (!dataTable) return;\n",
              "\n",
              "          const docLinkHtml = 'Like what you see? Visit the ' +\n",
              "            '<a target=\"_blank\" href=https://colab.research.google.com/notebooks/data_table.ipynb>data table notebook</a>'\n",
              "            + ' to learn more about interactive tables.';\n",
              "          element.innerHTML = '';\n",
              "          dataTable['output_type'] = 'display_data';\n",
              "          await google.colab.output.renderOutput(dataTable, element);\n",
              "          const docLink = document.createElement('div');\n",
              "          docLink.innerHTML = docLinkHtml;\n",
              "          element.appendChild(docLink);\n",
              "        }\n",
              "      </script>\n",
              "    </div>\n",
              "  </div>\n",
              "  "
            ]
          },
          "metadata": {},
          "execution_count": 36
        }
      ]
    },
    {
      "cell_type": "markdown",
      "source": [
        "Pendapatan tertinggi berada pada bulan 12 tahun 2019 sebesar 4613443.34 dan pendapatan terendah berada pada bulan 1 tahun 2020 sebesar 8670.29."
      ],
      "metadata": {
        "id": "N6dE-wFS0YtF"
      }
    },
    {
      "cell_type": "markdown",
      "source": [
        "## C.4. Visualisasi Pendapatan per Bulan"
      ],
      "metadata": {
        "id": "Jbps0Znb1CKF"
      }
    },
    {
      "cell_type": "markdown",
      "source": [
        "Pendapatan per bulan dapat divisualisasikan menggunakan *matplotlib*."
      ],
      "metadata": {
        "id": "fiCLvXQe1SAk"
      }
    },
    {
      "cell_type": "code",
      "source": [
        "income_M.plot(kind='line',legend=True, marker='o',figsize=(10,5))\n",
        "plt.title('Income per Month')\n",
        "plt.ylabel('Price')\n",
        "plt.grid()\n",
        "plt.show()"
      ],
      "metadata": {
        "colab": {
          "base_uri": "https://localhost:8080/",
          "height": 336
        },
        "id": "c6EU0wXQfvnk",
        "outputId": "4e3b114f-8bb4-4c5d-f760-2e5ccbc7d902"
      },
      "execution_count": 37,
      "outputs": [
        {
          "output_type": "display_data",
          "data": {
            "text/plain": [
              "<Figure size 720x360 with 1 Axes>"
            ],
            "image/png": "[encoded data removed]"
          },
          "metadata": {
            "needs_background": "light"
          }
        }
      ]
    },
    {
      "cell_type": "markdown",
      "source": [
        "Dari diagram di atas terlihat pendapatan mengalami peningkatan dari bulan Januari 2019 hingga April 2019. Tren penurunan pendapatan terjadi dari bulan Mei 2019 hingga September 2019 lalu mengalami peningakatan kembali hingga Desember 2019. Perubahan ini bisa disebabkan oleh minat pembeli.\n",
        "\n",
        "Penurunan pendapatan yang sangat drastis terjadi pada bulan Januari 2020. Hal ini bisa disebabkan oleh beberapa hal seperti pandemi, krisis, dan lain sebagainya."
      ],
      "metadata": {
        "id": "--rpI6Ko1wOH"
      }
    },
    {
      "cell_type": "markdown",
      "source": [
        "# D. Produk yang laris terjual dan tidak laris terjual"
      ],
      "metadata": {
        "id": "lMY1XyHOLjhP"
      }
    },
    {
      "cell_type": "markdown",
      "source": [
        "## D.1. Produk"
      ],
      "metadata": {
        "id": "oGjU2O6s4GwX"
      }
    },
    {
      "cell_type": "markdown",
      "source": [
        "Jumlah orderan tiap produk dan pendapatan dapat ditentukan dengan melakukan grouping jumlah Quantity Ordered dan Income berdasarkan Product."
      ],
      "metadata": {
        "id": "2-J0mENd4UoZ"
      }
    },
    {
      "cell_type": "code",
      "source": [
        "produk = df_clean.groupby('Product')[['Quantity Ordered','Income']].sum().reset_index()\n",
        "produk"
      ],
      "metadata": {
        "colab": {
          "base_uri": "https://localhost:8080/",
          "height": 645
        },
        "id": "21aqpF_FNeuq",
        "outputId": "3ad3f72b-2fd9-468b-c6a7-e2426060920f"
      },
      "execution_count": 29,
      "outputs": [
        {
          "output_type": "execute_result",
          "data": {
            "text/plain": [
              "                       Product  Quantity Ordered      Income\n",
              "0                 20in Monitor              4129   454148.71\n",
              "1       27in 4K Gaming Monitor              6244  2435097.56\n",
              "2             27in FHD Monitor              7550   1132424.5\n",
              "3       34in Ultrawide Monitor              6199  2355558.01\n",
              "4        AA Batteries (4-pack)             27635    106118.4\n",
              "5       AAA Batteries (4-pack)             31017    92740.83\n",
              "6     Apple Airpods Headphones             15661   2349150.0\n",
              "7   Bose SoundSport Headphones             13457  1345565.43\n",
              "8                Flatscreen TV              4819   1445700.0\n",
              "9                 Google Phone              5532   3319200.0\n",
              "10                    LG Dryer               646    387600.0\n",
              "11          LG Washing Machine               666    399600.0\n",
              "12    Lightning Charging Cable             23217   347094.15\n",
              "13          Macbook Pro Laptop              4728   8037600.0\n",
              "14             ThinkPad Laptop              4130   4129958.7\n",
              "15        USB-C Charging Cable             23975   286501.25\n",
              "16             Vareebadd Phone              2068    827200.0\n",
              "17            Wired Headphones             20557   246478.43\n",
              "18                      iPhone              6849   4794300.0"
            ],
            "text/html": [
              "\n",
              "  <div id=\"df-1aab6628-5dda-4e66-a947-fda9324870ac\">\n",
              "    <div class=\"colab-df-container\">\n",
              "      <div>\n",
              "<style scoped>\n",
              "    .dataframe tbody tr th:only-of-type {\n",
              "        vertical-align: middle;\n",
              "    }\n",
              "\n",
              "    .dataframe tbody tr th {\n",
              "        vertical-align: top;\n",
              "    }\n",
              "\n",
              "    .dataframe thead th {\n",
              "        text-align: right;\n",
              "    }\n",
              "</style>\n",
              "<table border=\"1\" class=\"dataframe\">\n",
              "  <thead>\n",
              "    <tr style=\"text-align: right;\">\n",
              "      <th></th>\n",
              "      <th>Product</th>\n",
              "      <th>Quantity Ordered</th>\n",
              "      <th>Income</th>\n",
              "    </tr>\n",
              "  </thead>\n",
              "  <tbody>\n",
              "    <tr>\n",
              "      <th>0</th>\n",
              "      <td>20in Monitor</td>\n",
              "      <td>4129</td>\n",
              "      <td>454148.71</td>\n",
              "    </tr>\n",
              "    <tr>\n",
              "      <th>1</th>\n",
              "      <td>27in 4K Gaming Monitor</td>\n",
              "      <td>6244</td>\n",
              "      <td>2435097.56</td>\n",
              "    </tr>\n",
              "    <tr>\n",
              "      <th>2</th>\n",
              "      <td>27in FHD Monitor</td>\n",
              "      <td>7550</td>\n",
              "      <td>1132424.5</td>\n",
              "    </tr>\n",
              "    <tr>\n",
              "      <th>3</th>\n",
              "      <td>34in Ultrawide Monitor</td>\n",
              "      <td>6199</td>\n",
              "      <td>2355558.01</td>\n",
              "    </tr>\n",
              "    <tr>\n",
              "      <th>4</th>\n",
              "      <td>AA Batteries (4-pack)</td>\n",
              "      <td>27635</td>\n",
              "      <td>106118.4</td>\n",
              "    </tr>\n",
              "    <tr>\n",
              "      <th>5</th>\n",
              "      <td>AAA Batteries (4-pack)</td>\n",
              "      <td>31017</td>\n",
              "      <td>92740.83</td>\n",
              "    </tr>\n",
              "    <tr>\n",
              "      <th>6</th>\n",
              "      <td>Apple Airpods Headphones</td>\n",
              "      <td>15661</td>\n",
              "      <td>2349150.0</td>\n",
              "    </tr>\n",
              "    <tr>\n",
              "      <th>7</th>\n",
              "      <td>Bose SoundSport Headphones</td>\n",
              "      <td>13457</td>\n",
              "      <td>1345565.43</td>\n",
              "    </tr>\n",
              "    <tr>\n",
              "      <th>8</th>\n",
              "      <td>Flatscreen TV</td>\n",
              "      <td>4819</td>\n",
              "      <td>1445700.0</td>\n",
              "    </tr>\n",
              "    <tr>\n",
              "      <th>9</th>\n",
              "      <td>Google Phone</td>\n",
              "      <td>5532</td>\n",
              "      <td>3319200.0</td>\n",
              "    </tr>\n",
              "    <tr>\n",
              "      <th>10</th>\n",
              "      <td>LG Dryer</td>\n",
              "      <td>646</td>\n",
              "      <td>387600.0</td>\n",
              "    </tr>\n",
              "    <tr>\n",
              "      <th>11</th>\n",
              "      <td>LG Washing Machine</td>\n",
              "      <td>666</td>\n",
              "      <td>399600.0</td>\n",
              "    </tr>\n",
              "    <tr>\n",
              "      <th>12</th>\n",
              "      <td>Lightning Charging Cable</td>\n",
              "      <td>23217</td>\n",
              "      <td>347094.15</td>\n",
              "    </tr>\n",
              "    <tr>\n",
              "      <th>13</th>\n",
              "      <td>Macbook Pro Laptop</td>\n",
              "      <td>4728</td>\n",
              "      <td>8037600.0</td>\n",
              "    </tr>\n",
              "    <tr>\n",
              "      <th>14</th>\n",
              "      <td>ThinkPad Laptop</td>\n",
              "      <td>4130</td>\n",
              "      <td>4129958.7</td>\n",
              "    </tr>\n",
              "    <tr>\n",
              "      <th>15</th>\n",
              "      <td>USB-C Charging Cable</td>\n",
              "      <td>23975</td>\n",
              "      <td>286501.25</td>\n",
              "    </tr>\n",
              "    <tr>\n",
              "      <th>16</th>\n",
              "      <td>Vareebadd Phone</td>\n",
              "      <td>2068</td>\n",
              "      <td>827200.0</td>\n",
              "    </tr>\n",
              "    <tr>\n",
              "      <th>17</th>\n",
              "      <td>Wired Headphones</td>\n",
              "      <td>20557</td>\n",
              "      <td>246478.43</td>\n",
              "    </tr>\n",
              "    <tr>\n",
              "      <th>18</th>\n",
              "      <td>iPhone</td>\n",
              "      <td>6849</td>\n",
              "      <td>4794300.0</td>\n",
              "    </tr>\n",
              "  </tbody>\n",
              "</table>\n",
              "</div>\n",
              "      <button class=\"colab-df-convert\" onclick=\"convertToInteractive('df-1aab6628-5dda-4e66-a947-fda9324870ac')\"\n",
              "              title=\"Convert this dataframe to an interactive table.\"\n",
              "              style=\"display:none;\">\n",
              "        \n",
              "  <svg xmlns=\"http://www.w3.org/2000/svg\" height=\"24px\"viewBox=\"0 0 24 24\"\n",
              "       width=\"24px\">\n",
              "    <path d=\"M0 0h24v24H0V0z\" fill=\"none\"/>\n",
              "    <path d=\"M18.56 5.44l.94 2.06.94-2.06 2.06-.94-2.06-.94-.94-2.06-.94 2.06-2.06.94zm-11 1L8.5 8.5l.94-2.06 2.06-.94-2.06-.94L8.5 2.5l-.94 2.06-2.06.94zm10 10l.94 2.06.94-2.06 2.06-.94-2.06-.94-.94-2.06-.94 2.06-2.06.94z\"/><path d=\"M17.41 7.96l-1.37-1.37c-.4-.4-.92-.59-1.43-.59-.52 0-1.04.2-1.43.59L10.3 9.45l-7.72 7.72c-.78.78-.78 2.05 0 2.83L4 21.41c.39.39.9.59 1.41.59.51 0 1.02-.2 1.41-.59l7.78-7.78 2.81-2.81c.8-.78.8-2.07 0-2.86zM5.41 20L4 18.59l7.72-7.72 1.47 1.35L5.41 20z\"/>\n",
              "  </svg>\n",
              "      </button>\n",
              "      \n",
              "  <style>\n",
              "    .colab-df-container {\n",
              "      display:flex;\n",
              "      flex-wrap:wrap;\n",
              "      gap: 12px;\n",
              "    }\n",
              "\n",
              "    .colab-df-convert {\n",
              "      background-color: #E8F0FE;\n",
              "      border: none;\n",
              "      border-radius: 50%;\n",
              "      cursor: pointer;\n",
              "      display: none;\n",
              "      fill: #1967D2;\n",
              "      height: 32px;\n",
              "      padding: 0 0 0 0;\n",
              "      width: 32px;\n",
              "    }\n",
              "\n",
              "    .colab-df-convert:hover {\n",
              "      background-color: #E2EBFA;\n",
              "      box-shadow: 0px 1px 2px rgba(60, 64, 67, 0.3), 0px 1px 3px 1px rgba(60, 64, 67, 0.15);\n",
              "      fill: #174EA6;\n",
              "    }\n",
              "\n",
              "    [theme=dark] .colab-df-convert {\n",
              "      background-color: #3B4455;\n",
              "      fill: #D2E3FC;\n",
              "    }\n",
              "\n",
              "    [theme=dark] .colab-df-convert:hover {\n",
              "      background-color: #434B5C;\n",
              "      box-shadow: 0px 1px 3px 1px rgba(0, 0, 0, 0.15);\n",
              "      filter: drop-shadow(0px 1px 2px rgba(0, 0, 0, 0.3));\n",
              "      fill: #FFFFFF;\n",
              "    }\n",
              "  </style>\n",
              "\n",
              "      <script>\n",
              "        const buttonEl =\n",
              "          document.querySelector('#df-1aab6628-5dda-4e66-a947-fda9324870ac button.colab-df-convert');\n",
              "        buttonEl.style.display =\n",
              "          google.colab.kernel.accessAllowed ? 'block' : 'none';\n",
              "\n",
              "        async function convertToInteractive(key) {\n",
              "          const element = document.querySelector('#df-1aab6628-5dda-4e66-a947-fda9324870ac');\n",
              "          const dataTable =\n",
              "            await google.colab.kernel.invokeFunction('convertToInteractive',\n",
              "                                                     [key], {});\n",
              "          if (!dataTable) return;\n",
              "\n",
              "          const docLinkHtml = 'Like what you see? Visit the ' +\n",
              "            '<a target=\"_blank\" href=https://colab.research.google.com/notebooks/data_table.ipynb>data table notebook</a>'\n",
              "            + ' to learn more about interactive tables.';\n",
              "          element.innerHTML = '';\n",
              "          dataTable['output_type'] = 'display_data';\n",
              "          await google.colab.output.renderOutput(dataTable, element);\n",
              "          const docLink = document.createElement('div');\n",
              "          docLink.innerHTML = docLinkHtml;\n",
              "          element.appendChild(docLink);\n",
              "        }\n",
              "      </script>\n",
              "    </div>\n",
              "  </div>\n",
              "  "
            ]
          },
          "metadata": {},
          "execution_count": 29
        }
      ]
    },
    {
      "cell_type": "markdown",
      "source": [
        "## D.2. Produk terlaris dan tidak laris"
      ],
      "metadata": {
        "id": "6huTEFQe45JL"
      }
    },
    {
      "cell_type": "markdown",
      "source": [
        "Produk yang terlaris dan tidak laris dapat ditentukan dengan menambahkan fungsi .aggregate() pada hasil grouping Product."
      ],
      "metadata": {
        "id": "Jp3Eg4iY53eM"
      }
    },
    {
      "cell_type": "code",
      "source": [
        "produk[['Quantity Ordered','Income']].aggregate(['min','max'])"
      ],
      "metadata": {
        "colab": {
          "base_uri": "https://localhost:8080/",
          "height": 112
        },
        "id": "QwcJmePrUp1v",
        "outputId": "171569f5-4c61-4f98-ed6e-2f214db31980"
      },
      "execution_count": 42,
      "outputs": [
        {
          "output_type": "execute_result",
          "data": {
            "text/plain": [
              "     Quantity Ordered      Income\n",
              "min               646    92740.83\n",
              "max             31017  8037600.00"
            ],
            "text/html": [
              "\n",
              "  <div id=\"df-f30dd131-5fd2-43ed-81fe-aff73a3f7ceb\">\n",
              "    <div class=\"colab-df-container\">\n",
              "      <div>\n",
              "<style scoped>\n",
              "    .dataframe tbody tr th:only-of-type {\n",
              "        vertical-align: middle;\n",
              "    }\n",
              "\n",
              "    .dataframe tbody tr th {\n",
              "        vertical-align: top;\n",
              "    }\n",
              "\n",
              "    .dataframe thead th {\n",
              "        text-align: right;\n",
              "    }\n",
              "</style>\n",
              "<table border=\"1\" class=\"dataframe\">\n",
              "  <thead>\n",
              "    <tr style=\"text-align: right;\">\n",
              "      <th></th>\n",
              "      <th>Quantity Ordered</th>\n",
              "      <th>Income</th>\n",
              "    </tr>\n",
              "  </thead>\n",
              "  <tbody>\n",
              "    <tr>\n",
              "      <th>min</th>\n",
              "      <td>646</td>\n",
              "      <td>92740.83</td>\n",
              "    </tr>\n",
              "    <tr>\n",
              "      <th>max</th>\n",
              "      <td>31017</td>\n",
              "      <td>8037600.00</td>\n",
              "    </tr>\n",
              "  </tbody>\n",
              "</table>\n",
              "</div>\n",
              "      <button class=\"colab-df-convert\" onclick=\"convertToInteractive('df-f30dd131-5fd2-43ed-81fe-aff73a3f7ceb')\"\n",
              "              title=\"Convert this dataframe to an interactive table.\"\n",
              "              style=\"display:none;\">\n",
              "        \n",
              "  <svg xmlns=\"http://www.w3.org/2000/svg\" height=\"24px\"viewBox=\"0 0 24 24\"\n",
              "       width=\"24px\">\n",
              "    <path d=\"M0 0h24v24H0V0z\" fill=\"none\"/>\n",
              "    <path d=\"M18.56 5.44l.94 2.06.94-2.06 2.06-.94-2.06-.94-.94-2.06-.94 2.06-2.06.94zm-11 1L8.5 8.5l.94-2.06 2.06-.94-2.06-.94L8.5 2.5l-.94 2.06-2.06.94zm10 10l.94 2.06.94-2.06 2.06-.94-2.06-.94-.94-2.06-.94 2.06-2.06.94z\"/><path d=\"M17.41 7.96l-1.37-1.37c-.4-.4-.92-.59-1.43-.59-.52 0-1.04.2-1.43.59L10.3 9.45l-7.72 7.72c-.78.78-.78 2.05 0 2.83L4 21.41c.39.39.9.59 1.41.59.51 0 1.02-.2 1.41-.59l7.78-7.78 2.81-2.81c.8-.78.8-2.07 0-2.86zM5.41 20L4 18.59l7.72-7.72 1.47 1.35L5.41 20z\"/>\n",
              "  </svg>\n",
              "      </button>\n",
              "      \n",
              "  <style>\n",
              "    .colab-df-container {\n",
              "      display:flex;\n",
              "      flex-wrap:wrap;\n",
              "      gap: 12px;\n",
              "    }\n",
              "\n",
              "    .colab-df-convert {\n",
              "      background-color: #E8F0FE;\n",
              "      border: none;\n",
              "      border-radius: 50%;\n",
              "      cursor: pointer;\n",
              "      display: none;\n",
              "      fill: #1967D2;\n",
              "      height: 32px;\n",
              "      padding: 0 0 0 0;\n",
              "      width: 32px;\n",
              "    }\n",
              "\n",
              "    .colab-df-convert:hover {\n",
              "      background-color: #E2EBFA;\n",
              "      box-shadow: 0px 1px 2px rgba(60, 64, 67, 0.3), 0px 1px 3px 1px rgba(60, 64, 67, 0.15);\n",
              "      fill: #174EA6;\n",
              "    }\n",
              "\n",
              "    [theme=dark] .colab-df-convert {\n",
              "      background-color: #3B4455;\n",
              "      fill: #D2E3FC;\n",
              "    }\n",
              "\n",
              "    [theme=dark] .colab-df-convert:hover {\n",
              "      background-color: #434B5C;\n",
              "      box-shadow: 0px 1px 3px 1px rgba(0, 0, 0, 0.15);\n",
              "      filter: drop-shadow(0px 1px 2px rgba(0, 0, 0, 0.3));\n",
              "      fill: #FFFFFF;\n",
              "    }\n",
              "  </style>\n",
              "\n",
              "      <script>\n",
              "        const buttonEl =\n",
              "          document.querySelector('#df-f30dd131-5fd2-43ed-81fe-aff73a3f7ceb button.colab-df-convert');\n",
              "        buttonEl.style.display =\n",
              "          google.colab.kernel.accessAllowed ? 'block' : 'none';\n",
              "\n",
              "        async function convertToInteractive(key) {\n",
              "          const element = document.querySelector('#df-f30dd131-5fd2-43ed-81fe-aff73a3f7ceb');\n",
              "          const dataTable =\n",
              "            await google.colab.kernel.invokeFunction('convertToInteractive',\n",
              "                                                     [key], {});\n",
              "          if (!dataTable) return;\n",
              "\n",
              "          const docLinkHtml = 'Like what you see? Visit the ' +\n",
              "            '<a target=\"_blank\" href=https://colab.research.google.com/notebooks/data_table.ipynb>data table notebook</a>'\n",
              "            + ' to learn more about interactive tables.';\n",
              "          element.innerHTML = '';\n",
              "          dataTable['output_type'] = 'display_data';\n",
              "          await google.colab.output.renderOutput(dataTable, element);\n",
              "          const docLink = document.createElement('div');\n",
              "          docLink.innerHTML = docLinkHtml;\n",
              "          element.appendChild(docLink);\n",
              "        }\n",
              "      </script>\n",
              "    </div>\n",
              "  </div>\n",
              "  "
            ]
          },
          "metadata": {},
          "execution_count": 42
        }
      ]
    },
    {
      "cell_type": "markdown",
      "source": [
        "Berdasarkan Quantity Ordered, produk yang paling laris adalah AAA Batteries (4-pack) dengan jumlah order sebesar 31017 dan produk yang tidak laris adalah LG Dryer dengan jumlah order sebesar 646.\n",
        "Berdasarkan Income/Pendapatan, produk yang paling laris adalah Macbook Pro Laptop dan yang kurang laris adalah AAA Batteries (4-pack)."
      ],
      "metadata": {
        "id": "fE9CxniE5K4y"
      }
    },
    {
      "cell_type": "markdown",
      "source": [
        "## D.3. Visualisasi Jumlah Order dan Pendapatan tiap Produk"
      ],
      "metadata": {
        "id": "OMypn0M86WXJ"
      }
    },
    {
      "cell_type": "code",
      "source": [
        "fig = plt.figure(figsize=(12,7))\n",
        "# Divide the figure into a 2x1 grid, and give me the first section\n",
        "ax1 = fig.add_subplot(121)\n",
        "# Divide the figure into a 2x1 grid, and give me the second section\n",
        "ax2 = fig.add_subplot(122)\n",
        "\n",
        "produk.plot(kind='barh',x='Product', y='Quantity Ordered',ax=ax1,legend=False)\n",
        "ax1.set_title('Quantity Ordered of Product')\n",
        "ax1.xaxis.set_label_text('Quantity Ordered')\n",
        "produk.plot(kind='barh',x='Product', y='Income' ,ax=ax2,legend=False)\n",
        "ax2.set_title('Income of Product')\n",
        "ax2.xaxis.set_label_text('Income')\n",
        "fig.subplots_adjust(wspace=1)\n",
        "plt.show()"
      ],
      "metadata": {
        "colab": {
          "base_uri": "https://localhost:8080/",
          "height": 458
        },
        "id": "zOmTAVnNWrVO",
        "outputId": "01598766-bffc-42d8-d790-afe52b946c7b"
      },
      "execution_count": 68,
      "outputs": [
        {
          "output_type": "display_data",
          "data": {
            "text/plain": [
              "<Figure size 864x504 with 2 Axes>"
            ],
            "image/png": "[encoded data removed]"
          },
          "metadata": {
            "needs_background": "light"
          }
        }
      ]
    },
    {
      "cell_type": "markdown",
      "source": [
        "Pada diagram Quantity Ordered terlihat produk yang laris terjual adalah AAA Batteries, sedangkan produk yang kurang laris terjual adalah Washing Machine dan Dryer.\n",
        "Jika ditinjau dari diagram Income, produk AAA Batteries yang orderannya banyak justru pendapatannya paling sedikit dan produk Macbook Pro Laptop yang memiliki pendapatan tertinggi. Hal ini dikarenakan perbedaan harga tiap produk.\n",
        "\n",
        "Jadi, laris atau kurang larisnya suatu produk dapat dilihat berdasarkan jumlah orderan dan pendapatan."
      ],
      "metadata": {
        "id": "zEgH9j0p6mNg"
      }
    },
    {
      "cell_type": "markdown",
      "source": [
        "# E. Pengiklanan Produk"
      ],
      "metadata": {
        "id": "USzKM-Uh_rbx"
      }
    },
    {
      "cell_type": "markdown",
      "source": [
        "## E.1. Pengiklanan berdasarkan bulan"
      ],
      "metadata": {
        "id": "60s8vYMujazO"
      }
    },
    {
      "cell_type": "markdown",
      "source": [
        "Pengelompokan Quantity Ordered berdasarkan bulan."
      ],
      "metadata": {
        "id": "KrWEjn8TH1qz"
      }
    },
    {
      "cell_type": "code",
      "source": [
        "iklan_bln = df_clean.groupby(df_clean['Order Date'].dt.strftime('%Y-%m'))[['Quantity Ordered']].sum().reset_index()\n",
        "iklan_bln.rename(columns = {'Order Date':'Year-Month'}, inplace = True)\n",
        "iklan_bln"
      ],
      "metadata": {
        "colab": {
          "base_uri": "https://localhost:8080/",
          "height": 457
        },
        "id": "o9hpFJUu_2kw",
        "outputId": "a9a83b9e-897b-48d8-ffd9-6106d9c5a469"
      },
      "execution_count": 34,
      "outputs": [
        {
          "output_type": "execute_result",
          "data": {
            "text/plain": [
              "   Year-Month  Quantity Ordered\n",
              "0     2019-01             10862\n",
              "1     2019-02             13449\n",
              "2     2019-03             17005\n",
              "3     2019-04             20558\n",
              "4     2019-05             18667\n",
              "5     2019-06             15253\n",
              "6     2019-07             16072\n",
              "7     2019-08             13448\n",
              "8     2019-09             13109\n",
              "9     2019-10             22703\n",
              "10    2019-11             19798\n",
              "11    2019-12             28114\n",
              "12    2020-01                41"
            ],
            "text/html": [
              "\n",
              "  <div id=\"df-0595c878-72cf-42a8-bdef-42c679b6fe66\">\n",
              "    <div class=\"colab-df-container\">\n",
              "      <div>\n",
              "<style scoped>\n",
              "    .dataframe tbody tr th:only-of-type {\n",
              "        vertical-align: middle;\n",
              "    }\n",
              "\n",
              "    .dataframe tbody tr th {\n",
              "        vertical-align: top;\n",
              "    }\n",
              "\n",
              "    .dataframe thead th {\n",
              "        text-align: right;\n",
              "    }\n",
              "</style>\n",
              "<table border=\"1\" class=\"dataframe\">\n",
              "  <thead>\n",
              "    <tr style=\"text-align: right;\">\n",
              "      <th></th>\n",
              "      <th>Year-Month</th>\n",
              "      <th>Quantity Ordered</th>\n",
              "    </tr>\n",
              "  </thead>\n",
              "  <tbody>\n",
              "    <tr>\n",
              "      <th>0</th>\n",
              "      <td>2019-01</td>\n",
              "      <td>10862</td>\n",
              "    </tr>\n",
              "    <tr>\n",
              "      <th>1</th>\n",
              "      <td>2019-02</td>\n",
              "      <td>13449</td>\n",
              "    </tr>\n",
              "    <tr>\n",
              "      <th>2</th>\n",
              "      <td>2019-03</td>\n",
              "      <td>17005</td>\n",
              "    </tr>\n",
              "    <tr>\n",
              "      <th>3</th>\n",
              "      <td>2019-04</td>\n",
              "      <td>20558</td>\n",
              "    </tr>\n",
              "    <tr>\n",
              "      <th>4</th>\n",
              "      <td>2019-05</td>\n",
              "      <td>18667</td>\n",
              "    </tr>\n",
              "    <tr>\n",
              "      <th>5</th>\n",
              "      <td>2019-06</td>\n",
              "      <td>15253</td>\n",
              "    </tr>\n",
              "    <tr>\n",
              "      <th>6</th>\n",
              "      <td>2019-07</td>\n",
              "      <td>16072</td>\n",
              "    </tr>\n",
              "    <tr>\n",
              "      <th>7</th>\n",
              "      <td>2019-08</td>\n",
              "      <td>13448</td>\n",
              "    </tr>\n",
              "    <tr>\n",
              "      <th>8</th>\n",
              "      <td>2019-09</td>\n",
              "      <td>13109</td>\n",
              "    </tr>\n",
              "    <tr>\n",
              "      <th>9</th>\n",
              "      <td>2019-10</td>\n",
              "      <td>22703</td>\n",
              "    </tr>\n",
              "    <tr>\n",
              "      <th>10</th>\n",
              "      <td>2019-11</td>\n",
              "      <td>19798</td>\n",
              "    </tr>\n",
              "    <tr>\n",
              "      <th>11</th>\n",
              "      <td>2019-12</td>\n",
              "      <td>28114</td>\n",
              "    </tr>\n",
              "    <tr>\n",
              "      <th>12</th>\n",
              "      <td>2020-01</td>\n",
              "      <td>41</td>\n",
              "    </tr>\n",
              "  </tbody>\n",
              "</table>\n",
              "</div>\n",
              "      <button class=\"colab-df-convert\" onclick=\"convertToInteractive('df-0595c878-72cf-42a8-bdef-42c679b6fe66')\"\n",
              "              title=\"Convert this dataframe to an interactive table.\"\n",
              "              style=\"display:none;\">\n",
              "        \n",
              "  <svg xmlns=\"http://www.w3.org/2000/svg\" height=\"24px\"viewBox=\"0 0 24 24\"\n",
              "       width=\"24px\">\n",
              "    <path d=\"M0 0h24v24H0V0z\" fill=\"none\"/>\n",
              "    <path d=\"M18.56 5.44l.94 2.06.94-2.06 2.06-.94-2.06-.94-.94-2.06-.94 2.06-2.06.94zm-11 1L8.5 8.5l.94-2.06 2.06-.94-2.06-.94L8.5 2.5l-.94 2.06-2.06.94zm10 10l.94 2.06.94-2.06 2.06-.94-2.06-.94-.94-2.06-.94 2.06-2.06.94z\"/><path d=\"M17.41 7.96l-1.37-1.37c-.4-.4-.92-.59-1.43-.59-.52 0-1.04.2-1.43.59L10.3 9.45l-7.72 7.72c-.78.78-.78 2.05 0 2.83L4 21.41c.39.39.9.59 1.41.59.51 0 1.02-.2 1.41-.59l7.78-7.78 2.81-2.81c.8-.78.8-2.07 0-2.86zM5.41 20L4 18.59l7.72-7.72 1.47 1.35L5.41 20z\"/>\n",
              "  </svg>\n",
              "      </button>\n",
              "      \n",
              "  <style>\n",
              "    .colab-df-container {\n",
              "      display:flex;\n",
              "      flex-wrap:wrap;\n",
              "      gap: 12px;\n",
              "    }\n",
              "\n",
              "    .colab-df-convert {\n",
              "      background-color: #E8F0FE;\n",
              "      border: none;\n",
              "      border-radius: 50%;\n",
              "      cursor: pointer;\n",
              "      display: none;\n",
              "      fill: #1967D2;\n",
              "      height: 32px;\n",
              "      padding: 0 0 0 0;\n",
              "      width: 32px;\n",
              "    }\n",
              "\n",
              "    .colab-df-convert:hover {\n",
              "      background-color: #E2EBFA;\n",
              "      box-shadow: 0px 1px 2px rgba(60, 64, 67, 0.3), 0px 1px 3px 1px rgba(60, 64, 67, 0.15);\n",
              "      fill: #174EA6;\n",
              "    }\n",
              "\n",
              "    [theme=dark] .colab-df-convert {\n",
              "      background-color: #3B4455;\n",
              "      fill: #D2E3FC;\n",
              "    }\n",
              "\n",
              "    [theme=dark] .colab-df-convert:hover {\n",
              "      background-color: #434B5C;\n",
              "      box-shadow: 0px 1px 3px 1px rgba(0, 0, 0, 0.15);\n",
              "      filter: drop-shadow(0px 1px 2px rgba(0, 0, 0, 0.3));\n",
              "      fill: #FFFFFF;\n",
              "    }\n",
              "  </style>\n",
              "\n",
              "      <script>\n",
              "        const buttonEl =\n",
              "          document.querySelector('#df-0595c878-72cf-42a8-bdef-42c679b6fe66 button.colab-df-convert');\n",
              "        buttonEl.style.display =\n",
              "          google.colab.kernel.accessAllowed ? 'block' : 'none';\n",
              "\n",
              "        async function convertToInteractive(key) {\n",
              "          const element = document.querySelector('#df-0595c878-72cf-42a8-bdef-42c679b6fe66');\n",
              "          const dataTable =\n",
              "            await google.colab.kernel.invokeFunction('convertToInteractive',\n",
              "                                                     [key], {});\n",
              "          if (!dataTable) return;\n",
              "\n",
              "          const docLinkHtml = 'Like what you see? Visit the ' +\n",
              "            '<a target=\"_blank\" href=https://colab.research.google.com/notebooks/data_table.ipynb>data table notebook</a>'\n",
              "            + ' to learn more about interactive tables.';\n",
              "          element.innerHTML = '';\n",
              "          dataTable['output_type'] = 'display_data';\n",
              "          await google.colab.output.renderOutput(dataTable, element);\n",
              "          const docLink = document.createElement('div');\n",
              "          docLink.innerHTML = docLinkHtml;\n",
              "          element.appendChild(docLink);\n",
              "        }\n",
              "      </script>\n",
              "    </div>\n",
              "  </div>\n",
              "  "
            ]
          },
          "metadata": {},
          "execution_count": 34
        }
      ]
    },
    {
      "cell_type": "markdown",
      "source": [
        "Grafik pergerakan Quantity Ordered tiap bulan"
      ],
      "metadata": {
        "id": "uS2-JdBJIIVY"
      }
    },
    {
      "cell_type": "code",
      "source": [
        "fig = plt.figure(figsize=(15,5))\n",
        "# Divide the figure into a 2x1 grid, and give me the first section\n",
        "ax1 = fig.add_subplot(121)\n",
        "# Divide the figure into a 2x1 grid, and give me the second section\n",
        "ax2 = fig.add_subplot(122)\n",
        "\n",
        "iklan_bln.plot(kind='line', ax=ax1)\n",
        "ax1.set_title('Quantity Ordered of Product')\n",
        "ax1.xaxis.set_label_text('Quantity Ordered')\n",
        "income_M.plot(kind='line', ax=ax2)\n",
        "ax2.set_title('Income of Product')\n",
        "ax2.xaxis.set_label_text('Income')\n",
        "plt.show()"
      ],
      "metadata": {
        "colab": {
          "base_uri": "https://localhost:8080/",
          "height": 350
        },
        "id": "HuhjXQCsDCMb",
        "outputId": "21252f4b-b5ae-4dad-e900-8b810753acba"
      },
      "execution_count": 64,
      "outputs": [
        {
          "output_type": "display_data",
          "data": {
            "text/plain": [
              "<Figure size 1080x360 with 2 Axes>"
            ],
            "image/png": "[encoded data removed]"
          },
          "metadata": {
            "needs_background": "light"
          }
        }
      ]
    },
    {
      "cell_type": "markdown",
      "source": [
        "Dari kedua grafik di atas terlihat perubahan pendapatan sebanding dengan jumlah barang yang terjual.\n",
        "\n",
        "Untuk melakukan pengiklanan membutuhkan beberapa hal, salah satunya adalah budget. Selain itu, minat pembeli perlu diperhitungkan dengan melihat grafik jumlah barang yang terjual.\n",
        "\n",
        "Berdasarkan grafik pendapatan per bulan, yang tinggi berada pada bulan Oktober dan Desember. Sehingga dapat dikatakan bahwa pengiklanan cocok dilakukan menjelang akhir tahun karena pendapatan yang diperoleh menjelang akhir tahun sangat tinggi, dimana perusahaan memiliki budget yang lebih untuk pengiklanan. Selain itu, barang yang kurang laris pada awal tahun (berdasarkan grafik di atas), bisa mengalami peningkatan."
      ],
      "metadata": {
        "id": "wS4oA1_KI05w"
      }
    },
    {
      "cell_type": "markdown",
      "source": [
        "## E.2. Pengiklanan berdasarkan jam"
      ],
      "metadata": {
        "id": "Qzcdxp6YjSoL"
      }
    },
    {
      "cell_type": "markdown",
      "source": [
        "Pengelompokkan Quantity Ordered berdasarkan jam"
      ],
      "metadata": {
        "id": "BOcXjEXwtnAX"
      }
    },
    {
      "cell_type": "code",
      "source": [
        "iklan_jam = df_clean.groupby(df_clean['Order Date'].dt.hour)[['Quantity Ordered']].sum().reset_index()"
      ],
      "metadata": {
        "id": "Wu3SHR6YmCUS"
      },
      "execution_count": 43,
      "outputs": []
    },
    {
      "cell_type": "markdown",
      "source": [
        "Grafik Quantity Ordered berdasarkan tiap jam"
      ],
      "metadata": {
        "id": "Dep1Qi-utsHA"
      }
    },
    {
      "cell_type": "code",
      "source": [
        "iklan_jam.plot(x='Order Date',figsize=(10,5))\n",
        "plt.xticks(iklan_jam['Order Date'])\n",
        "plt.title('Quantity Order every Hour')\n",
        "plt.grid(ls=':',color='k')\n",
        "plt.show"
      ],
      "metadata": {
        "colab": {
          "base_uri": "https://localhost:8080/",
          "height": 367
        },
        "id": "EmvvtQ0_mR6i",
        "outputId": "ac0663d8-3d6f-4b0b-86f6-8936758b7846"
      },
      "execution_count": 44,
      "outputs": [
        {
          "output_type": "execute_result",
          "data": {
            "text/plain": [
              "<function matplotlib.pyplot.show>"
            ]
          },
          "metadata": {},
          "execution_count": 44
        },
        {
          "output_type": "display_data",
          "data": {
            "text/plain": [
              "<Figure size 720x360 with 1 Axes>"
            ],
            "image/png": "[encoded data removed]"
          },
          "metadata": {
            "needs_background": "light"
          }
        }
      ]
    },
    {
      "cell_type": "markdown",
      "source": [
        "Pada grafik di atas dapat dilihat jumlah pembeli yang tinggi terjadi pada 12 siang dan jam 7 malam. Sehingga untuk melakukan pengiklanan dapat dilakukan menjelang siang hari atau pada sore hari."
      ],
      "metadata": {
        "id": "0W0XUnHauBrU"
      }
    }
  ]
}